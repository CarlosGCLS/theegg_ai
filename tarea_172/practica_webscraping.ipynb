{
 "cells": [
  {
   "cell_type": "markdown",
   "id": "b4e26566",
   "metadata": {},
   "source": [
    "# Webscraping, 3 ejercicios"
   ]
  },
  {
   "cell_type": "markdown",
   "id": "b45d178c",
   "metadata": {},
   "source": [
    "Importamos las libreías"
   ]
  },
  {
   "cell_type": "code",
   "execution_count": 48,
   "id": "3426ca1e",
   "metadata": {},
   "outputs": [],
   "source": [
    "import requests\n",
    "from bs4 import BeautifulSoup\n"
   ]
  },
  {
   "cell_type": "markdown",
   "id": "0108e30e",
   "metadata": {},
   "source": [
    "# Ejercicio 1: Simple"
   ]
  },
  {
   "cell_type": "markdown",
   "id": "2ae4e002",
   "metadata": {},
   "source": [
    "Obtenemos datos sobre la torre Eiffel y los guardamos como archivo JSON"
   ]
  },
  {
   "cell_type": "code",
   "execution_count": 49,
   "id": "72bcc695",
   "metadata": {},
   "outputs": [
    {
     "ename": "ConnectionError",
     "evalue": "HTTPSConnectionPool(host='www.toureiffel.paris', port=443): Max retries exceeded with url: /es/el-monumento/cifras-clave (Caused by NewConnectionError('<urllib3.connection.HTTPSConnection object at 0x0000028ABFE20760>: Failed to establish a new connection: [Errno 11001] getaddrinfo failed'))",
     "output_type": "error",
     "traceback": [
      "\u001b[1;31m---------------------------------------------------------------------------\u001b[0m",
      "\u001b[1;31mgaierror\u001b[0m                                  Traceback (most recent call last)",
      "\u001b[1;32m~\\anaconda3\\lib\\site-packages\\urllib3\\connection.py\u001b[0m in \u001b[0;36m_new_conn\u001b[1;34m(self)\u001b[0m\n\u001b[0;32m    173\u001b[0m         \u001b[1;32mtry\u001b[0m\u001b[1;33m:\u001b[0m\u001b[1;33m\u001b[0m\u001b[1;33m\u001b[0m\u001b[0m\n\u001b[1;32m--> 174\u001b[1;33m             conn = connection.create_connection(\n\u001b[0m\u001b[0;32m    175\u001b[0m                 \u001b[1;33m(\u001b[0m\u001b[0mself\u001b[0m\u001b[1;33m.\u001b[0m\u001b[0m_dns_host\u001b[0m\u001b[1;33m,\u001b[0m \u001b[0mself\u001b[0m\u001b[1;33m.\u001b[0m\u001b[0mport\u001b[0m\u001b[1;33m)\u001b[0m\u001b[1;33m,\u001b[0m \u001b[0mself\u001b[0m\u001b[1;33m.\u001b[0m\u001b[0mtimeout\u001b[0m\u001b[1;33m,\u001b[0m \u001b[1;33m**\u001b[0m\u001b[0mextra_kw\u001b[0m\u001b[1;33m\u001b[0m\u001b[1;33m\u001b[0m\u001b[0m\n",
      "\u001b[1;32m~\\anaconda3\\lib\\site-packages\\urllib3\\util\\connection.py\u001b[0m in \u001b[0;36mcreate_connection\u001b[1;34m(address, timeout, source_address, socket_options)\u001b[0m\n\u001b[0;32m     71\u001b[0m \u001b[1;33m\u001b[0m\u001b[0m\n\u001b[1;32m---> 72\u001b[1;33m     \u001b[1;32mfor\u001b[0m \u001b[0mres\u001b[0m \u001b[1;32min\u001b[0m \u001b[0msocket\u001b[0m\u001b[1;33m.\u001b[0m\u001b[0mgetaddrinfo\u001b[0m\u001b[1;33m(\u001b[0m\u001b[0mhost\u001b[0m\u001b[1;33m,\u001b[0m \u001b[0mport\u001b[0m\u001b[1;33m,\u001b[0m \u001b[0mfamily\u001b[0m\u001b[1;33m,\u001b[0m \u001b[0msocket\u001b[0m\u001b[1;33m.\u001b[0m\u001b[0mSOCK_STREAM\u001b[0m\u001b[1;33m)\u001b[0m\u001b[1;33m:\u001b[0m\u001b[1;33m\u001b[0m\u001b[1;33m\u001b[0m\u001b[0m\n\u001b[0m\u001b[0;32m     73\u001b[0m         \u001b[0maf\u001b[0m\u001b[1;33m,\u001b[0m \u001b[0msocktype\u001b[0m\u001b[1;33m,\u001b[0m \u001b[0mproto\u001b[0m\u001b[1;33m,\u001b[0m \u001b[0mcanonname\u001b[0m\u001b[1;33m,\u001b[0m \u001b[0msa\u001b[0m \u001b[1;33m=\u001b[0m \u001b[0mres\u001b[0m\u001b[1;33m\u001b[0m\u001b[1;33m\u001b[0m\u001b[0m\n",
      "\u001b[1;32m~\\anaconda3\\lib\\socket.py\u001b[0m in \u001b[0;36mgetaddrinfo\u001b[1;34m(host, port, family, type, proto, flags)\u001b[0m\n\u001b[0;32m    953\u001b[0m     \u001b[0maddrlist\u001b[0m \u001b[1;33m=\u001b[0m \u001b[1;33m[\u001b[0m\u001b[1;33m]\u001b[0m\u001b[1;33m\u001b[0m\u001b[1;33m\u001b[0m\u001b[0m\n\u001b[1;32m--> 954\u001b[1;33m     \u001b[1;32mfor\u001b[0m \u001b[0mres\u001b[0m \u001b[1;32min\u001b[0m \u001b[0m_socket\u001b[0m\u001b[1;33m.\u001b[0m\u001b[0mgetaddrinfo\u001b[0m\u001b[1;33m(\u001b[0m\u001b[0mhost\u001b[0m\u001b[1;33m,\u001b[0m \u001b[0mport\u001b[0m\u001b[1;33m,\u001b[0m \u001b[0mfamily\u001b[0m\u001b[1;33m,\u001b[0m \u001b[0mtype\u001b[0m\u001b[1;33m,\u001b[0m \u001b[0mproto\u001b[0m\u001b[1;33m,\u001b[0m \u001b[0mflags\u001b[0m\u001b[1;33m)\u001b[0m\u001b[1;33m:\u001b[0m\u001b[1;33m\u001b[0m\u001b[1;33m\u001b[0m\u001b[0m\n\u001b[0m\u001b[0;32m    955\u001b[0m         \u001b[0maf\u001b[0m\u001b[1;33m,\u001b[0m \u001b[0msocktype\u001b[0m\u001b[1;33m,\u001b[0m \u001b[0mproto\u001b[0m\u001b[1;33m,\u001b[0m \u001b[0mcanonname\u001b[0m\u001b[1;33m,\u001b[0m \u001b[0msa\u001b[0m \u001b[1;33m=\u001b[0m \u001b[0mres\u001b[0m\u001b[1;33m\u001b[0m\u001b[1;33m\u001b[0m\u001b[0m\n",
      "\u001b[1;31mgaierror\u001b[0m: [Errno 11001] getaddrinfo failed",
      "\nDuring handling of the above exception, another exception occurred:\n",
      "\u001b[1;31mNewConnectionError\u001b[0m                        Traceback (most recent call last)",
      "\u001b[1;32m~\\anaconda3\\lib\\site-packages\\urllib3\\connectionpool.py\u001b[0m in \u001b[0;36murlopen\u001b[1;34m(self, method, url, body, headers, retries, redirect, assert_same_host, timeout, pool_timeout, release_conn, chunked, body_pos, **response_kw)\u001b[0m\n\u001b[0;32m    702\u001b[0m             \u001b[1;31m# Make the request on the httplib connection object.\u001b[0m\u001b[1;33m\u001b[0m\u001b[1;33m\u001b[0m\u001b[0m\n\u001b[1;32m--> 703\u001b[1;33m             httplib_response = self._make_request(\n\u001b[0m\u001b[0;32m    704\u001b[0m                 \u001b[0mconn\u001b[0m\u001b[1;33m,\u001b[0m\u001b[1;33m\u001b[0m\u001b[1;33m\u001b[0m\u001b[0m\n",
      "\u001b[1;32m~\\anaconda3\\lib\\site-packages\\urllib3\\connectionpool.py\u001b[0m in \u001b[0;36m_make_request\u001b[1;34m(self, conn, method, url, timeout, chunked, **httplib_request_kw)\u001b[0m\n\u001b[0;32m    385\u001b[0m         \u001b[1;32mtry\u001b[0m\u001b[1;33m:\u001b[0m\u001b[1;33m\u001b[0m\u001b[1;33m\u001b[0m\u001b[0m\n\u001b[1;32m--> 386\u001b[1;33m             \u001b[0mself\u001b[0m\u001b[1;33m.\u001b[0m\u001b[0m_validate_conn\u001b[0m\u001b[1;33m(\u001b[0m\u001b[0mconn\u001b[0m\u001b[1;33m)\u001b[0m\u001b[1;33m\u001b[0m\u001b[1;33m\u001b[0m\u001b[0m\n\u001b[0m\u001b[0;32m    387\u001b[0m         \u001b[1;32mexcept\u001b[0m \u001b[1;33m(\u001b[0m\u001b[0mSocketTimeout\u001b[0m\u001b[1;33m,\u001b[0m \u001b[0mBaseSSLError\u001b[0m\u001b[1;33m)\u001b[0m \u001b[1;32mas\u001b[0m \u001b[0me\u001b[0m\u001b[1;33m:\u001b[0m\u001b[1;33m\u001b[0m\u001b[1;33m\u001b[0m\u001b[0m\n",
      "\u001b[1;32m~\\anaconda3\\lib\\site-packages\\urllib3\\connectionpool.py\u001b[0m in \u001b[0;36m_validate_conn\u001b[1;34m(self, conn)\u001b[0m\n\u001b[0;32m   1041\u001b[0m         \u001b[1;32mif\u001b[0m \u001b[1;32mnot\u001b[0m \u001b[0mgetattr\u001b[0m\u001b[1;33m(\u001b[0m\u001b[0mconn\u001b[0m\u001b[1;33m,\u001b[0m \u001b[1;34m\"sock\"\u001b[0m\u001b[1;33m,\u001b[0m \u001b[1;32mNone\u001b[0m\u001b[1;33m)\u001b[0m\u001b[1;33m:\u001b[0m  \u001b[1;31m# AppEngine might not have  `.sock`\u001b[0m\u001b[1;33m\u001b[0m\u001b[1;33m\u001b[0m\u001b[0m\n\u001b[1;32m-> 1042\u001b[1;33m             \u001b[0mconn\u001b[0m\u001b[1;33m.\u001b[0m\u001b[0mconnect\u001b[0m\u001b[1;33m(\u001b[0m\u001b[1;33m)\u001b[0m\u001b[1;33m\u001b[0m\u001b[1;33m\u001b[0m\u001b[0m\n\u001b[0m\u001b[0;32m   1043\u001b[0m \u001b[1;33m\u001b[0m\u001b[0m\n",
      "\u001b[1;32m~\\anaconda3\\lib\\site-packages\\urllib3\\connection.py\u001b[0m in \u001b[0;36mconnect\u001b[1;34m(self)\u001b[0m\n\u001b[0;32m    357\u001b[0m         \u001b[1;31m# Add certificate verification\u001b[0m\u001b[1;33m\u001b[0m\u001b[1;33m\u001b[0m\u001b[0m\n\u001b[1;32m--> 358\u001b[1;33m         \u001b[0mself\u001b[0m\u001b[1;33m.\u001b[0m\u001b[0msock\u001b[0m \u001b[1;33m=\u001b[0m \u001b[0mconn\u001b[0m \u001b[1;33m=\u001b[0m \u001b[0mself\u001b[0m\u001b[1;33m.\u001b[0m\u001b[0m_new_conn\u001b[0m\u001b[1;33m(\u001b[0m\u001b[1;33m)\u001b[0m\u001b[1;33m\u001b[0m\u001b[1;33m\u001b[0m\u001b[0m\n\u001b[0m\u001b[0;32m    359\u001b[0m         \u001b[0mhostname\u001b[0m \u001b[1;33m=\u001b[0m \u001b[0mself\u001b[0m\u001b[1;33m.\u001b[0m\u001b[0mhost\u001b[0m\u001b[1;33m\u001b[0m\u001b[1;33m\u001b[0m\u001b[0m\n",
      "\u001b[1;32m~\\anaconda3\\lib\\site-packages\\urllib3\\connection.py\u001b[0m in \u001b[0;36m_new_conn\u001b[1;34m(self)\u001b[0m\n\u001b[0;32m    185\u001b[0m         \u001b[1;32mexcept\u001b[0m \u001b[0mSocketError\u001b[0m \u001b[1;32mas\u001b[0m \u001b[0me\u001b[0m\u001b[1;33m:\u001b[0m\u001b[1;33m\u001b[0m\u001b[1;33m\u001b[0m\u001b[0m\n\u001b[1;32m--> 186\u001b[1;33m             raise NewConnectionError(\n\u001b[0m\u001b[0;32m    187\u001b[0m                 \u001b[0mself\u001b[0m\u001b[1;33m,\u001b[0m \u001b[1;34m\"Failed to establish a new connection: %s\"\u001b[0m \u001b[1;33m%\u001b[0m \u001b[0me\u001b[0m\u001b[1;33m\u001b[0m\u001b[1;33m\u001b[0m\u001b[0m\n",
      "\u001b[1;31mNewConnectionError\u001b[0m: <urllib3.connection.HTTPSConnection object at 0x0000028ABFE20760>: Failed to establish a new connection: [Errno 11001] getaddrinfo failed",
      "\nDuring handling of the above exception, another exception occurred:\n",
      "\u001b[1;31mMaxRetryError\u001b[0m                             Traceback (most recent call last)",
      "\u001b[1;32m~\\anaconda3\\lib\\site-packages\\requests\\adapters.py\u001b[0m in \u001b[0;36msend\u001b[1;34m(self, request, stream, timeout, verify, cert, proxies)\u001b[0m\n\u001b[0;32m    488\u001b[0m             \u001b[1;32mif\u001b[0m \u001b[1;32mnot\u001b[0m \u001b[0mchunked\u001b[0m\u001b[1;33m:\u001b[0m\u001b[1;33m\u001b[0m\u001b[1;33m\u001b[0m\u001b[0m\n\u001b[1;32m--> 489\u001b[1;33m                 resp = conn.urlopen(\n\u001b[0m\u001b[0;32m    490\u001b[0m                     \u001b[0mmethod\u001b[0m\u001b[1;33m=\u001b[0m\u001b[0mrequest\u001b[0m\u001b[1;33m.\u001b[0m\u001b[0mmethod\u001b[0m\u001b[1;33m,\u001b[0m\u001b[1;33m\u001b[0m\u001b[1;33m\u001b[0m\u001b[0m\n",
      "\u001b[1;32m~\\anaconda3\\lib\\site-packages\\urllib3\\connectionpool.py\u001b[0m in \u001b[0;36murlopen\u001b[1;34m(self, method, url, body, headers, retries, redirect, assert_same_host, timeout, pool_timeout, release_conn, chunked, body_pos, **response_kw)\u001b[0m\n\u001b[0;32m    786\u001b[0m \u001b[1;33m\u001b[0m\u001b[0m\n\u001b[1;32m--> 787\u001b[1;33m             retries = retries.increment(\n\u001b[0m\u001b[0;32m    788\u001b[0m                 \u001b[0mmethod\u001b[0m\u001b[1;33m,\u001b[0m \u001b[0murl\u001b[0m\u001b[1;33m,\u001b[0m \u001b[0merror\u001b[0m\u001b[1;33m=\u001b[0m\u001b[0me\u001b[0m\u001b[1;33m,\u001b[0m \u001b[0m_pool\u001b[0m\u001b[1;33m=\u001b[0m\u001b[0mself\u001b[0m\u001b[1;33m,\u001b[0m \u001b[0m_stacktrace\u001b[0m\u001b[1;33m=\u001b[0m\u001b[0msys\u001b[0m\u001b[1;33m.\u001b[0m\u001b[0mexc_info\u001b[0m\u001b[1;33m(\u001b[0m\u001b[1;33m)\u001b[0m\u001b[1;33m[\u001b[0m\u001b[1;36m2\u001b[0m\u001b[1;33m]\u001b[0m\u001b[1;33m\u001b[0m\u001b[1;33m\u001b[0m\u001b[0m\n",
      "\u001b[1;32m~\\anaconda3\\lib\\site-packages\\urllib3\\util\\retry.py\u001b[0m in \u001b[0;36mincrement\u001b[1;34m(self, method, url, response, error, _pool, _stacktrace)\u001b[0m\n\u001b[0;32m    591\u001b[0m         \u001b[1;32mif\u001b[0m \u001b[0mnew_retry\u001b[0m\u001b[1;33m.\u001b[0m\u001b[0mis_exhausted\u001b[0m\u001b[1;33m(\u001b[0m\u001b[1;33m)\u001b[0m\u001b[1;33m:\u001b[0m\u001b[1;33m\u001b[0m\u001b[1;33m\u001b[0m\u001b[0m\n\u001b[1;32m--> 592\u001b[1;33m             \u001b[1;32mraise\u001b[0m \u001b[0mMaxRetryError\u001b[0m\u001b[1;33m(\u001b[0m\u001b[0m_pool\u001b[0m\u001b[1;33m,\u001b[0m \u001b[0murl\u001b[0m\u001b[1;33m,\u001b[0m \u001b[0merror\u001b[0m \u001b[1;32mor\u001b[0m \u001b[0mResponseError\u001b[0m\u001b[1;33m(\u001b[0m\u001b[0mcause\u001b[0m\u001b[1;33m)\u001b[0m\u001b[1;33m)\u001b[0m\u001b[1;33m\u001b[0m\u001b[1;33m\u001b[0m\u001b[0m\n\u001b[0m\u001b[0;32m    593\u001b[0m \u001b[1;33m\u001b[0m\u001b[0m\n",
      "\u001b[1;31mMaxRetryError\u001b[0m: HTTPSConnectionPool(host='www.toureiffel.paris', port=443): Max retries exceeded with url: /es/el-monumento/cifras-clave (Caused by NewConnectionError('<urllib3.connection.HTTPSConnection object at 0x0000028ABFE20760>: Failed to establish a new connection: [Errno 11001] getaddrinfo failed'))",
      "\nDuring handling of the above exception, another exception occurred:\n",
      "\u001b[1;31mConnectionError\u001b[0m                           Traceback (most recent call last)",
      "\u001b[1;32m~\\AppData\\Local\\Temp\\ipykernel_19812\\31767695.py\u001b[0m in \u001b[0;36m<module>\u001b[1;34m\u001b[0m\n\u001b[0;32m      3\u001b[0m     \u001b[1;34m'User-Agent'\u001b[0m\u001b[1;33m:\u001b[0m \u001b[1;34m'Mozilla/5.0 (Windows NT 10.0; Win64; x64) AppleWebKit/537.36 (KHTML, like Gecko) Chrome/98.0.4758.82 Safari/537.36'\u001b[0m\u001b[1;33m,\u001b[0m\u001b[1;33m\u001b[0m\u001b[1;33m\u001b[0m\u001b[0m\n\u001b[0;32m      4\u001b[0m }\n\u001b[1;32m----> 5\u001b[1;33m \u001b[0mresponse\u001b[0m \u001b[1;33m=\u001b[0m \u001b[0mrequests\u001b[0m\u001b[1;33m.\u001b[0m\u001b[0mget\u001b[0m\u001b[1;33m(\u001b[0m\u001b[0murl\u001b[0m\u001b[1;33m,\u001b[0m \u001b[0mheaders\u001b[0m\u001b[1;33m=\u001b[0m\u001b[0mheaders\u001b[0m\u001b[1;33m)\u001b[0m\u001b[1;33m\u001b[0m\u001b[1;33m\u001b[0m\u001b[0m\n\u001b[0m\u001b[0;32m      6\u001b[0m \u001b[1;33m\u001b[0m\u001b[0m\n\u001b[0;32m      7\u001b[0m \u001b[1;32mif\u001b[0m \u001b[0mresponse\u001b[0m\u001b[1;33m.\u001b[0m\u001b[0mstatus_code\u001b[0m \u001b[1;33m==\u001b[0m \u001b[1;36m200\u001b[0m\u001b[1;33m:\u001b[0m\u001b[1;33m\u001b[0m\u001b[1;33m\u001b[0m\u001b[0m\n",
      "\u001b[1;32m~\\anaconda3\\lib\\site-packages\\requests\\api.py\u001b[0m in \u001b[0;36mget\u001b[1;34m(url, params, **kwargs)\u001b[0m\n\u001b[0;32m     71\u001b[0m     \"\"\"\n\u001b[0;32m     72\u001b[0m \u001b[1;33m\u001b[0m\u001b[0m\n\u001b[1;32m---> 73\u001b[1;33m     \u001b[1;32mreturn\u001b[0m \u001b[0mrequest\u001b[0m\u001b[1;33m(\u001b[0m\u001b[1;34m\"get\"\u001b[0m\u001b[1;33m,\u001b[0m \u001b[0murl\u001b[0m\u001b[1;33m,\u001b[0m \u001b[0mparams\u001b[0m\u001b[1;33m=\u001b[0m\u001b[0mparams\u001b[0m\u001b[1;33m,\u001b[0m \u001b[1;33m**\u001b[0m\u001b[0mkwargs\u001b[0m\u001b[1;33m)\u001b[0m\u001b[1;33m\u001b[0m\u001b[1;33m\u001b[0m\u001b[0m\n\u001b[0m\u001b[0;32m     74\u001b[0m \u001b[1;33m\u001b[0m\u001b[0m\n\u001b[0;32m     75\u001b[0m \u001b[1;33m\u001b[0m\u001b[0m\n",
      "\u001b[1;32m~\\anaconda3\\lib\\site-packages\\requests\\api.py\u001b[0m in \u001b[0;36mrequest\u001b[1;34m(method, url, **kwargs)\u001b[0m\n\u001b[0;32m     57\u001b[0m     \u001b[1;31m# cases, and look like a memory leak in others.\u001b[0m\u001b[1;33m\u001b[0m\u001b[1;33m\u001b[0m\u001b[0m\n\u001b[0;32m     58\u001b[0m     \u001b[1;32mwith\u001b[0m \u001b[0msessions\u001b[0m\u001b[1;33m.\u001b[0m\u001b[0mSession\u001b[0m\u001b[1;33m(\u001b[0m\u001b[1;33m)\u001b[0m \u001b[1;32mas\u001b[0m \u001b[0msession\u001b[0m\u001b[1;33m:\u001b[0m\u001b[1;33m\u001b[0m\u001b[1;33m\u001b[0m\u001b[0m\n\u001b[1;32m---> 59\u001b[1;33m         \u001b[1;32mreturn\u001b[0m \u001b[0msession\u001b[0m\u001b[1;33m.\u001b[0m\u001b[0mrequest\u001b[0m\u001b[1;33m(\u001b[0m\u001b[0mmethod\u001b[0m\u001b[1;33m=\u001b[0m\u001b[0mmethod\u001b[0m\u001b[1;33m,\u001b[0m \u001b[0murl\u001b[0m\u001b[1;33m=\u001b[0m\u001b[0murl\u001b[0m\u001b[1;33m,\u001b[0m \u001b[1;33m**\u001b[0m\u001b[0mkwargs\u001b[0m\u001b[1;33m)\u001b[0m\u001b[1;33m\u001b[0m\u001b[1;33m\u001b[0m\u001b[0m\n\u001b[0m\u001b[0;32m     60\u001b[0m \u001b[1;33m\u001b[0m\u001b[0m\n\u001b[0;32m     61\u001b[0m \u001b[1;33m\u001b[0m\u001b[0m\n",
      "\u001b[1;32m~\\anaconda3\\lib\\site-packages\\requests\\sessions.py\u001b[0m in \u001b[0;36mrequest\u001b[1;34m(self, method, url, params, data, headers, cookies, files, auth, timeout, allow_redirects, proxies, hooks, stream, verify, cert, json)\u001b[0m\n\u001b[0;32m    585\u001b[0m         }\n\u001b[0;32m    586\u001b[0m         \u001b[0msend_kwargs\u001b[0m\u001b[1;33m.\u001b[0m\u001b[0mupdate\u001b[0m\u001b[1;33m(\u001b[0m\u001b[0msettings\u001b[0m\u001b[1;33m)\u001b[0m\u001b[1;33m\u001b[0m\u001b[1;33m\u001b[0m\u001b[0m\n\u001b[1;32m--> 587\u001b[1;33m         \u001b[0mresp\u001b[0m \u001b[1;33m=\u001b[0m \u001b[0mself\u001b[0m\u001b[1;33m.\u001b[0m\u001b[0msend\u001b[0m\u001b[1;33m(\u001b[0m\u001b[0mprep\u001b[0m\u001b[1;33m,\u001b[0m \u001b[1;33m**\u001b[0m\u001b[0msend_kwargs\u001b[0m\u001b[1;33m)\u001b[0m\u001b[1;33m\u001b[0m\u001b[1;33m\u001b[0m\u001b[0m\n\u001b[0m\u001b[0;32m    588\u001b[0m \u001b[1;33m\u001b[0m\u001b[0m\n\u001b[0;32m    589\u001b[0m         \u001b[1;32mreturn\u001b[0m \u001b[0mresp\u001b[0m\u001b[1;33m\u001b[0m\u001b[1;33m\u001b[0m\u001b[0m\n",
      "\u001b[1;32m~\\anaconda3\\lib\\site-packages\\requests\\sessions.py\u001b[0m in \u001b[0;36msend\u001b[1;34m(self, request, **kwargs)\u001b[0m\n\u001b[0;32m    699\u001b[0m \u001b[1;33m\u001b[0m\u001b[0m\n\u001b[0;32m    700\u001b[0m         \u001b[1;31m# Send the request\u001b[0m\u001b[1;33m\u001b[0m\u001b[1;33m\u001b[0m\u001b[0m\n\u001b[1;32m--> 701\u001b[1;33m         \u001b[0mr\u001b[0m \u001b[1;33m=\u001b[0m \u001b[0madapter\u001b[0m\u001b[1;33m.\u001b[0m\u001b[0msend\u001b[0m\u001b[1;33m(\u001b[0m\u001b[0mrequest\u001b[0m\u001b[1;33m,\u001b[0m \u001b[1;33m**\u001b[0m\u001b[0mkwargs\u001b[0m\u001b[1;33m)\u001b[0m\u001b[1;33m\u001b[0m\u001b[1;33m\u001b[0m\u001b[0m\n\u001b[0m\u001b[0;32m    702\u001b[0m \u001b[1;33m\u001b[0m\u001b[0m\n\u001b[0;32m    703\u001b[0m         \u001b[1;31m# Total elapsed time of the request (approximately)\u001b[0m\u001b[1;33m\u001b[0m\u001b[1;33m\u001b[0m\u001b[0m\n",
      "\u001b[1;32m~\\anaconda3\\lib\\site-packages\\requests\\adapters.py\u001b[0m in \u001b[0;36msend\u001b[1;34m(self, request, stream, timeout, verify, cert, proxies)\u001b[0m\n\u001b[0;32m    563\u001b[0m                 \u001b[1;32mraise\u001b[0m \u001b[0mSSLError\u001b[0m\u001b[1;33m(\u001b[0m\u001b[0me\u001b[0m\u001b[1;33m,\u001b[0m \u001b[0mrequest\u001b[0m\u001b[1;33m=\u001b[0m\u001b[0mrequest\u001b[0m\u001b[1;33m)\u001b[0m\u001b[1;33m\u001b[0m\u001b[1;33m\u001b[0m\u001b[0m\n\u001b[0;32m    564\u001b[0m \u001b[1;33m\u001b[0m\u001b[0m\n\u001b[1;32m--> 565\u001b[1;33m             \u001b[1;32mraise\u001b[0m \u001b[0mConnectionError\u001b[0m\u001b[1;33m(\u001b[0m\u001b[0me\u001b[0m\u001b[1;33m,\u001b[0m \u001b[0mrequest\u001b[0m\u001b[1;33m=\u001b[0m\u001b[0mrequest\u001b[0m\u001b[1;33m)\u001b[0m\u001b[1;33m\u001b[0m\u001b[1;33m\u001b[0m\u001b[0m\n\u001b[0m\u001b[0;32m    566\u001b[0m \u001b[1;33m\u001b[0m\u001b[0m\n\u001b[0;32m    567\u001b[0m         \u001b[1;32mexcept\u001b[0m \u001b[0mClosedPoolError\u001b[0m \u001b[1;32mas\u001b[0m \u001b[0me\u001b[0m\u001b[1;33m:\u001b[0m\u001b[1;33m\u001b[0m\u001b[1;33m\u001b[0m\u001b[0m\n",
      "\u001b[1;31mConnectionError\u001b[0m: HTTPSConnectionPool(host='www.toureiffel.paris', port=443): Max retries exceeded with url: /es/el-monumento/cifras-clave (Caused by NewConnectionError('<urllib3.connection.HTTPSConnection object at 0x0000028ABFE20760>: Failed to establish a new connection: [Errno 11001] getaddrinfo failed'))"
     ]
    }
   ],
   "source": [
    "url = \"https://www.toureiffel.paris/es/el-monumento/cifras-clave\"\n",
    "headers = {\n",
    "    'User-Agent': 'Mozilla/5.0 (Windows NT 10.0; Win64; x64) AppleWebKit/537.36 (KHTML, like Gecko) Chrome/98.0.4758.82 Safari/537.36',\n",
    "}\n",
    "response = requests.get(url, headers=headers)\n",
    "\n",
    "if response.status_code == 200:\n",
    "    print(\"Página recibida OK!\")\n",
    "    data = response.text\n",
    "else:\n",
    "    print(\"Error desde el servidor: \" + response.status_code)\n"
   ]
  },
  {
   "cell_type": "code",
   "execution_count": null,
   "id": "8f038b75",
   "metadata": {},
   "outputs": [],
   "source": [
    "# Instancia del objeto beautiful soup con el código HTML\n",
    "soup = BeautifulSoup(data, 'html.parser')\n"
   ]
  },
  {
   "cell_type": "code",
   "execution_count": null,
   "id": "233dd47f",
   "metadata": {},
   "outputs": [],
   "source": [
    "#podemos ver todo el código de la página\n",
    "soup.body"
   ]
  },
  {
   "cell_type": "code",
   "execution_count": null,
   "id": "c0442dce",
   "metadata": {},
   "outputs": [],
   "source": [
    "# Podemos acceder a la tabla directamente desde el objeto soup\n",
    "soup.table"
   ]
  },
  {
   "cell_type": "code",
   "execution_count": null,
   "id": "61ab8817",
   "metadata": {
    "scrolled": true
   },
   "outputs": [],
   "source": [
    "#Acceder a ka primera fila\n",
    "\n",
    "table = soup.table\n",
    "fila1 = table.tbody.find_all('tr')[1]\n",
    "fila1"
   ]
  },
  {
   "cell_type": "code",
   "execution_count": null,
   "id": "dfa8a8ae",
   "metadata": {
    "scrolled": true
   },
   "outputs": [],
   "source": [
    "# Acceder a los valores\n",
    "print(fila1.th.text)\n",
    "print(fila1.td.text)"
   ]
  },
  {
   "cell_type": "code",
   "execution_count": null,
   "id": "125f0596",
   "metadata": {},
   "outputs": [],
   "source": [
    "# Cantidad de Filas\n",
    "filas = table.tbody.find_all('tr')\n",
    "len(filas)"
   ]
  },
  {
   "cell_type": "markdown",
   "id": "01ed14db",
   "metadata": {},
   "source": [
    "Iteramos las filas y creamos un diccionario de datos"
   ]
  },
  {
   "cell_type": "code",
   "execution_count": null,
   "id": "d297905f",
   "metadata": {},
   "outputs": [],
   "source": [
    "nuevo_dict = dict()\n",
    "for fila in filas:\n",
    "    clave = fila.th.text\n",
    "    valor = fila.td.text\n",
    "    nuevo_dict[clave] = valor\n",
    "nuevo_dict"
   ]
  },
  {
   "cell_type": "code",
   "execution_count": null,
   "id": "b00f42e3",
   "metadata": {
    "scrolled": true
   },
   "outputs": [],
   "source": [
    "# podemos hacer el mismo diccionario en una sóla línea con map y lambda\n",
    "nuevo_dict = list(map(lambda a,b:{a.th.text:b.td.text},filas,filas))\n",
    "nuevo_dict"
   ]
  },
  {
   "cell_type": "markdown",
   "id": "ed5d56e7",
   "metadata": {},
   "source": [
    "## Guardamos los resultados"
   ]
  },
  {
   "cell_type": "code",
   "execution_count": null,
   "id": "c2fd7626",
   "metadata": {},
   "outputs": [],
   "source": [
    "import json\n",
    "\n",
    "filename = \"torre-eiffel.json\"\n",
    "with open(filename, 'w', encoding='utf-8') as f:\n",
    "    json.dump(nuevo_dict, f, ensure_ascii=False, indent=4)\n"
   ]
  },
  {
   "cell_type": "markdown",
   "id": "6b3f187e",
   "metadata": {},
   "source": [
    "   # Ejercicio 2: Dificultad Media"
   ]
  },
  {
   "cell_type": "markdown",
   "id": "04586eb4",
   "metadata": {},
   "source": [
    "Queremos extraer una tabla completa de la Wikipedia.<p>\n",
    "Transformar datos y generar un nuevo Dataset.<p>\n",
    "Guardamos en csv"
   ]
  },
  {
   "cell_type": "code",
   "execution_count": null,
   "id": "293167db",
   "metadata": {},
   "outputs": [],
   "source": [
    "# importamos Pandas\n",
    "import pandas as pd"
   ]
  },
  {
   "cell_type": "code",
   "execution_count": null,
   "id": "54bbb8e6",
   "metadata": {},
   "outputs": [],
   "source": [
    "url = \"https://es.wikipedia.org/wiki/Anexo:Monumentos_m%C3%A1s_visitados_del_mundo\"\n",
    "headers = {\n",
    "    'User-Agent': 'Mozilla/5.0 (Windows NT 10.0; Win64; x64) AppleWebKit/537.36 (KHTML, like Gecko) Chrome/98.0.4758.82 Safari/537.36',\n",
    "}\n",
    "response = requests.get(url, headers=headers)\n",
    "\n",
    "if response.status_code == 200:\n",
    "    print(\"Página recibida OK!\")\n",
    "    data = response.text\n",
    "else:\n",
    "    print(\"Error desde el servidor: \" + response.status_code)\n"
   ]
  },
  {
   "cell_type": "code",
   "execution_count": null,
   "id": "45394704",
   "metadata": {},
   "outputs": [],
   "source": [
    "# Vemos el código\n",
    "data"
   ]
  },
  {
   "cell_type": "code",
   "execution_count": null,
   "id": "94583ed3",
   "metadata": {},
   "outputs": [],
   "source": [
    "# Creamos el objeto BeautifulSoup\n",
    "soup = BeautifulSoup(data, 'html.parser')"
   ]
  },
  {
   "cell_type": "code",
   "execution_count": null,
   "id": "881df9ef",
   "metadata": {},
   "outputs": [],
   "source": [
    "# Vemos todas las tablas y sus clases css\n",
    "print('Classes of each table:')\n",
    "for table in soup.find_all('table'):\n",
    "    print(table.get('class'))"
   ]
  },
  {
   "cell_type": "code",
   "execution_count": null,
   "id": "e6893db4",
   "metadata": {},
   "outputs": [],
   "source": [
    "# Nos quedamos con la tabla indicada\n",
    "table = soup.find('table', class_='sortable')"
   ]
  },
  {
   "cell_type": "code",
   "execution_count": null,
   "id": "a970d55d",
   "metadata": {},
   "outputs": [],
   "source": [
    "# Veamos los valores de cabecera de la Tabla\n",
    "cabecera = table.tbody.find_all('tr')[1]\n",
    "cabecera"
   ]
  },
  {
   "cell_type": "code",
   "execution_count": null,
   "id": "2b26739d",
   "metadata": {},
   "outputs": [],
   "source": []
  },
  {
   "cell_type": "code",
   "execution_count": null,
   "id": "36328caf",
   "metadata": {},
   "outputs": [],
   "source": [
    "cabecera = table.tbody.find_all('tr')[1]\n",
    "tds = cabecera.find_all('td')\n",
    "columnas = list(map(lambda a:a.text.strip(), tds))\n",
    "columnas"
   ]
  },
  {
   "cell_type": "code",
   "execution_count": null,
   "id": "83ab81fd",
   "metadata": {},
   "outputs": [],
   "source": [
    "# Creamos un Dataframe vacio para almacenar los datos\n",
    "df = pd.DataFrame()"
   ]
  },
  {
   "cell_type": "code",
   "execution_count": null,
   "id": "36bcfdf1",
   "metadata": {},
   "outputs": [],
   "source": [
    "# Iteramos la tabla, transfornmamos y cargamos en el pandas\n",
    "\n",
    "for row_num, row in enumerate(table.tbody.find_all('tr')):\n",
    "    celdas = row.find_all('td')\n",
    "    fila = {}\n",
    "    if(row_num>1 and row_num<80 and celdas != []):\n",
    "        for idx, celda in enumerate(celdas):\n",
    "            if idx < len(columnas):\n",
    "                if idx in [0,1,2,8]: #skip\n",
    "                    pass \n",
    "                elif idx == 3: # Nombre\n",
    "                    fila[columnas[idx]] = celda.a.text\n",
    "                elif idx == 5: # Pais\n",
    "                    enlace = celda.find_all(\"a\")\n",
    "                    try:\n",
    "                        fila[columnas[idx]] = enlace[1].text\n",
    "                    except:\n",
    "                        fila[columnas[idx]] = celda.span.text\n",
    "                elif idx == 6: #Visitantes\n",
    "                    fila[columnas[idx]] = celda.text.strip().replace('\\xa0','').replace('+','')\n",
    "                else:\n",
    "                    try:\n",
    "                        fila[columnas[idx]] = celda.contents[0].text.strip()\n",
    "                    except:\n",
    "                        fila[columnas[idx]] = celda.text.strip()\n",
    "        df = df.append(fila, ignore_index=True)"
   ]
  },
  {
   "cell_type": "markdown",
   "id": "634fb9ed",
   "metadata": {},
   "source": [
    "## Operamos con los datos"
   ]
  },
  {
   "cell_type": "code",
   "execution_count": null,
   "id": "be48f91d",
   "metadata": {},
   "outputs": [],
   "source": [
    "# transformamos la columna de visitas a tipo numérico\n",
    "df[\"Visitantes/año\"] = df[\"Visitantes/año\"].astype(int)\n",
    "df.head(20)"
   ]
  },
  {
   "cell_type": "code",
   "execution_count": null,
   "id": "e7529d03",
   "metadata": {},
   "outputs": [],
   "source": [
    "# Filtramos solo los monumentos de Francia\n",
    "francia = df[df['País']=='Francia']\n",
    "francia = francia[[\"Nombre\",\"Visitantes/año\"]]\n",
    "francia = francia.set_index(\"Nombre\")\n",
    "francia"
   ]
  },
  {
   "cell_type": "markdown",
   "id": "0b626533",
   "metadata": {},
   "source": [
    "## Visualización de Datos"
   ]
  },
  {
   "cell_type": "code",
   "execution_count": null,
   "id": "d671e721",
   "metadata": {},
   "outputs": [],
   "source": [
    "from matplotlib import pyplot as plt\n",
    "%matplotlib notebook\n",
    "\n",
    "francia.sort_values(\"Visitantes/año\").plot(kind=\"barh\")"
   ]
  },
  {
   "cell_type": "markdown",
   "id": "b3f57d53",
   "metadata": {},
   "source": [
    "Vemos que la Torre Eiffel es rl 4to monumento de Francia con más visitas anuales"
   ]
  },
  {
   "cell_type": "markdown",
   "id": "4167ad8b",
   "metadata": {},
   "source": [
    "## Guardamos los datos en CSV"
   ]
  },
  {
   "cell_type": "code",
   "execution_count": null,
   "id": "70b97a9b",
   "metadata": {},
   "outputs": [],
   "source": [
    "df.to_csv(\"monumentos.csv\")"
   ]
  },
  {
   "cell_type": "markdown",
   "id": "6ee8b3e3",
   "metadata": {},
   "source": [
    "# Ejercicio 3: Avanzado"
   ]
  },
  {
   "cell_type": "markdown",
   "id": "1443dcce",
   "metadata": {},
   "source": [
    "Para este ejercicio utilizaremos Selenium.<p>\n",
    "    Asegurate tener instalado el driver de <a href=\"https://chromedriver.chromium.org\">Google Chrome</a> (también puede ser Fireforx, Safari o Edge)<p>\n",
    "También de instalar el paquete con 'pip install selenium'<p>\n",
    "Debes indicar la ruta del ejecutable de selenium (en Windows será chromedriver.exe)"
   ]
  },
  {
   "cell_type": "code",
   "execution_count": 54,
   "id": "35fe016b",
   "metadata": {},
   "outputs": [],
   "source": [
    "CHROMIUM_PATH='C:\\\\Users\\\\drivers\\\\chromedriver_win32\\\\chromedriver.exe'"
   ]
  },
  {
   "cell_type": "markdown",
   "id": "4c0d2d45",
   "metadata": {},
   "source": [
    "Definimos una función de espera, para simular la espera, como un humano"
   ]
  },
  {
   "cell_type": "code",
   "execution_count": 55,
   "id": "35177c44",
   "metadata": {},
   "outputs": [],
   "source": [
    "def wait_until(driver, secs):\n",
    "    try:\n",
    "        wait = WebDriverWait(driver, secs)\n",
    "        wait.until(expected_conditions.element_to_be_clickable((By.XPATH, \"//button[@id='btn1']\")))\n",
    "    except:\n",
    "        pass"
   ]
  },
  {
   "cell_type": "code",
   "execution_count": 56,
   "id": "4def3389",
   "metadata": {},
   "outputs": [],
   "source": [
    "# Importamos las clases de Selenium\n",
    "from selenium import webdriver\n",
    "from selenium.webdriver.support import expected_conditions\n",
    "from selenium.webdriver.common.by import By\n",
    "from selenium.webdriver.support.ui import WebDriverWait"
   ]
  },
  {
   "cell_type": "code",
   "execution_count": 57,
   "id": "3f97f129",
   "metadata": {},
   "outputs": [
    {
     "name": "stderr",
     "output_type": "stream",
     "text": [
      "C:\\Users\\carlo\\AppData\\Local\\Temp\\ipykernel_19812\\3954340419.py:7: DeprecationWarning: executable_path has been deprecated, please pass in a Service object\n",
      "  driver = webdriver.Chrome(executable_path=CHROMIUM_PATH, chrome_options=options)\n",
      "C:\\Users\\carlo\\AppData\\Local\\Temp\\ipykernel_19812\\3954340419.py:7: DeprecationWarning: use options instead of chrome_options\n",
      "  driver = webdriver.Chrome(executable_path=CHROMIUM_PATH, chrome_options=options)\n"
     ]
    }
   ],
   "source": [
    "options = webdriver.ChromeOptions()\n",
    "options.add_argument(\n",
    "    '--user-agent=Mozilla/5.0 (Windows NT 10.0; Win64; x64) AppleWebKit/537.36 (KHTML, like Gecko) Chrome/98.0.4758.82 Safari/537.36')\n",
    "options.add_argument('--ignore-certificate-errors')\n",
    "options.add_argument('--ignore-ssl-errors')\n",
    "\n",
    "driver = webdriver.Chrome(executable_path=CHROMIUM_PATH, chrome_options=options)\n",
    "\n",
    "web = \"https://www.instagram.com/\"\n",
    "\n",
    "driver.get(web)"
   ]
  },
  {
   "cell_type": "markdown",
   "id": "fcaa0272",
   "metadata": {},
   "source": [
    "## Aceptamos la Cookie"
   ]
  },
  {
   "cell_type": "code",
   "execution_count": 58,
   "id": "180a8f23",
   "metadata": {},
   "outputs": [
    {
     "ename": "AttributeError",
     "evalue": "'WebDriver' object has no attribute 'find_element_by_xpath'",
     "output_type": "error",
     "traceback": [
      "\u001b[1;31m---------------------------------------------------------------------------\u001b[0m",
      "\u001b[1;31mAttributeError\u001b[0m                            Traceback (most recent call last)",
      "\u001b[1;32m~\\AppData\\Local\\Temp\\ipykernel_19812\\558081559.py\u001b[0m in \u001b[0;36m<module>\u001b[1;34m\u001b[0m\n\u001b[0;32m      1\u001b[0m \u001b[1;31m#cookie_button = driver.find_element_by_xpath(f\"//button[text()='Aceptar todas']\")\u001b[0m\u001b[1;33m\u001b[0m\u001b[1;33m\u001b[0m\u001b[0m\n\u001b[1;32m----> 2\u001b[1;33m \u001b[0mcookie_button\u001b[0m \u001b[1;33m=\u001b[0m \u001b[0mdriver\u001b[0m\u001b[1;33m.\u001b[0m\u001b[0mfind_element_by_xpath\u001b[0m\u001b[1;33m(\u001b[0m\u001b[1;34mf\"//button[text()='Permitir cookies necesarias y opcionales']\"\u001b[0m\u001b[1;33m)\u001b[0m\u001b[1;33m\u001b[0m\u001b[1;33m\u001b[0m\u001b[0m\n\u001b[0m\u001b[0;32m      3\u001b[0m \u001b[0mcookie_button\u001b[0m\u001b[1;33m.\u001b[0m\u001b[0mclick\u001b[0m\u001b[1;33m(\u001b[0m\u001b[1;33m)\u001b[0m\u001b[1;33m\u001b[0m\u001b[1;33m\u001b[0m\u001b[0m\n",
      "\u001b[1;31mAttributeError\u001b[0m: 'WebDriver' object has no attribute 'find_element_by_xpath'"
     ]
    }
   ],
   "source": [
    "#cookie_button = driver.find_element_by_xpath(f\"//button[text()='Aceptar todas']\")\n",
    "cookie_button = driver.find_element_by_xpath(f\"//button[text()='Permitir cookies necesarias y opcionales']\")\n",
    "cookie_button.click()"
   ]
  },
  {
   "cell_type": "markdown",
   "id": "6e0f81e8",
   "metadata": {},
   "source": [
    "## Completamos el formulario de Login"
   ]
  },
  {
   "cell_type": "code",
   "execution_count": 59,
   "id": "b7759471",
   "metadata": {},
   "outputs": [
    {
     "ename": "AttributeError",
     "evalue": "'WebDriver' object has no attribute 'find_element_by_name'",
     "output_type": "error",
     "traceback": [
      "\u001b[1;31m---------------------------------------------------------------------------\u001b[0m",
      "\u001b[1;31mAttributeError\u001b[0m                            Traceback (most recent call last)",
      "\u001b[1;32m~\\AppData\\Local\\Temp\\ipykernel_19812\\284195290.py\u001b[0m in \u001b[0;36m<module>\u001b[1;34m\u001b[0m\n\u001b[0;32m      1\u001b[0m \u001b[1;31m# get element\u001b[0m\u001b[1;33m\u001b[0m\u001b[1;33m\u001b[0m\u001b[0m\n\u001b[1;32m----> 2\u001b[1;33m \u001b[0melement\u001b[0m \u001b[1;33m=\u001b[0m \u001b[0mdriver\u001b[0m\u001b[1;33m.\u001b[0m\u001b[0mfind_element_by_name\u001b[0m\u001b[1;33m(\u001b[0m\u001b[1;34m\"username\"\u001b[0m\u001b[1;33m)\u001b[0m\u001b[1;33m\u001b[0m\u001b[1;33m\u001b[0m\u001b[0m\n\u001b[0m\u001b[0;32m      3\u001b[0m \u001b[1;31m# send keys\u001b[0m\u001b[1;33m\u001b[0m\u001b[1;33m\u001b[0m\u001b[0m\n\u001b[0;32m      4\u001b[0m \u001b[0melement\u001b[0m\u001b[1;33m.\u001b[0m\u001b[0msend_keys\u001b[0m\u001b[1;33m(\u001b[0m\u001b[1;34m\"TU_USUARIO\"\u001b[0m\u001b[1;33m)\u001b[0m\u001b[1;33m\u001b[0m\u001b[1;33m\u001b[0m\u001b[0m\n\u001b[0;32m      5\u001b[0m \u001b[1;33m\u001b[0m\u001b[0m\n",
      "\u001b[1;31mAttributeError\u001b[0m: 'WebDriver' object has no attribute 'find_element_by_name'"
     ]
    }
   ],
   "source": [
    "# get element\n",
    "element = driver.find_element_by_name(\"username\")\n",
    "# send keys\n",
    "element.send_keys(\"TU_USUARIO\")\n",
    "\n",
    "wait_until(driver, 1)\n",
    "\n",
    "element = driver.find_element_by_name(\"password\")\n",
    "\n",
    "element.send_keys(\"TU_PASSWORD\")"
   ]
  },
  {
   "cell_type": "code",
   "execution_count": 60,
   "id": "2bd93571",
   "metadata": {},
   "outputs": [
    {
     "ename": "AttributeError",
     "evalue": "'WebDriver' object has no attribute 'find_element_by_id'",
     "output_type": "error",
     "traceback": [
      "\u001b[1;31m---------------------------------------------------------------------------\u001b[0m",
      "\u001b[1;31mAttributeError\u001b[0m                            Traceback (most recent call last)",
      "\u001b[1;32m~\\AppData\\Local\\Temp\\ipykernel_19812\\3975140613.py\u001b[0m in \u001b[0;36m<module>\u001b[1;34m\u001b[0m\n\u001b[1;32m----> 1\u001b[1;33m \u001b[0mdriver\u001b[0m\u001b[1;33m.\u001b[0m\u001b[0mfind_element_by_id\u001b[0m\u001b[1;33m(\u001b[0m\u001b[1;34m\"loginForm\"\u001b[0m\u001b[1;33m)\u001b[0m\u001b[1;33m.\u001b[0m\u001b[0msubmit\u001b[0m\u001b[1;33m(\u001b[0m\u001b[1;33m)\u001b[0m\u001b[1;33m\u001b[0m\u001b[1;33m\u001b[0m\u001b[0m\n\u001b[0m",
      "\u001b[1;31mAttributeError\u001b[0m: 'WebDriver' object has no attribute 'find_element_by_id'"
     ]
    }
   ],
   "source": [
    "driver.find_element_by_id(\"loginForm\").submit()"
   ]
  },
  {
   "cell_type": "markdown",
   "id": "b59ba93f",
   "metadata": {},
   "source": [
    "## Ya estamos Logueados"
   ]
  },
  {
   "cell_type": "code",
   "execution_count": null,
   "id": "403e9b45",
   "metadata": {},
   "outputs": [],
   "source": [
    "# Vamos a la página de Torre Eiffel\n",
    "driver.get(\"https://www.instagram.com/explore/locations/307177342743013/torre-eiffel/\")"
   ]
  },
  {
   "cell_type": "code",
   "execution_count": 36,
   "id": "16098ecd",
   "metadata": {},
   "outputs": [
    {
     "data": {
      "text/plain": [
       "[<selenium.webdriver.remote.webelement.WebElement (session=\"393c8c3df2c86e69c89a20b5cdda1678\", element=\"8df7a14e-4f18-4e91-8034-bd17ff34cc36\")>,\n",
       " <selenium.webdriver.remote.webelement.WebElement (session=\"393c8c3df2c86e69c89a20b5cdda1678\", element=\"0a0fcd94-ca62-4421-be47-692571efc928\")>,\n",
       " <selenium.webdriver.remote.webelement.WebElement (session=\"393c8c3df2c86e69c89a20b5cdda1678\", element=\"cba810e3-cd31-4c31-a5c2-08b997a837b3\")>,\n",
       " <selenium.webdriver.remote.webelement.WebElement (session=\"393c8c3df2c86e69c89a20b5cdda1678\", element=\"22c8be14-c053-4955-90f1-974f1279e51a\")>,\n",
       " <selenium.webdriver.remote.webelement.WebElement (session=\"393c8c3df2c86e69c89a20b5cdda1678\", element=\"47599c14-e443-4c19-8ae4-184c22a64723\")>,\n",
       " <selenium.webdriver.remote.webelement.WebElement (session=\"393c8c3df2c86e69c89a20b5cdda1678\", element=\"334b1175-471d-4d6b-92ca-dac48053f241\")>,\n",
       " <selenium.webdriver.remote.webelement.WebElement (session=\"393c8c3df2c86e69c89a20b5cdda1678\", element=\"351c7f18-5c41-424a-9d14-3c147093de6d\")>,\n",
       " <selenium.webdriver.remote.webelement.WebElement (session=\"393c8c3df2c86e69c89a20b5cdda1678\", element=\"250589d4-f8c4-476e-9f41-40a3359243ff\")>,\n",
       " <selenium.webdriver.remote.webelement.WebElement (session=\"393c8c3df2c86e69c89a20b5cdda1678\", element=\"c894d0a8-a79d-4bd0-9949-305bc468e557\")>,\n",
       " <selenium.webdriver.remote.webelement.WebElement (session=\"393c8c3df2c86e69c89a20b5cdda1678\", element=\"402bc94b-b77c-4d4f-9aee-ae104716a908\")>,\n",
       " <selenium.webdriver.remote.webelement.WebElement (session=\"393c8c3df2c86e69c89a20b5cdda1678\", element=\"1421a79e-5160-4593-aef4-55ffc89fac78\")>,\n",
       " <selenium.webdriver.remote.webelement.WebElement (session=\"393c8c3df2c86e69c89a20b5cdda1678\", element=\"3abf7934-c623-46b4-abe8-09527f92af26\")>,\n",
       " <selenium.webdriver.remote.webelement.WebElement (session=\"393c8c3df2c86e69c89a20b5cdda1678\", element=\"e4591052-ba71-4c1e-8377-49b57f00d2f8\")>,\n",
       " <selenium.webdriver.remote.webelement.WebElement (session=\"393c8c3df2c86e69c89a20b5cdda1678\", element=\"bb44cf1c-dd0e-43db-ac1b-bf5ac84498da\")>,\n",
       " <selenium.webdriver.remote.webelement.WebElement (session=\"393c8c3df2c86e69c89a20b5cdda1678\", element=\"a4a2d232-34d2-4b6c-8420-e2f672961d6f\")>,\n",
       " <selenium.webdriver.remote.webelement.WebElement (session=\"393c8c3df2c86e69c89a20b5cdda1678\", element=\"205aad87-7aee-48a6-bea5-c3bb22b8722e\")>,\n",
       " <selenium.webdriver.remote.webelement.WebElement (session=\"393c8c3df2c86e69c89a20b5cdda1678\", element=\"c31fd71f-963d-4ab4-95bc-e5fc550ad4d9\")>,\n",
       " <selenium.webdriver.remote.webelement.WebElement (session=\"393c8c3df2c86e69c89a20b5cdda1678\", element=\"b17ad6ba-eedb-46ea-911f-9d5af7bc003f\")>,\n",
       " <selenium.webdriver.remote.webelement.WebElement (session=\"393c8c3df2c86e69c89a20b5cdda1678\", element=\"5049b3ef-a1af-4c55-8db5-88c6698348ae\")>,\n",
       " <selenium.webdriver.remote.webelement.WebElement (session=\"393c8c3df2c86e69c89a20b5cdda1678\", element=\"d4c0e427-ac7a-466b-825e-3e5164fee7de\")>,\n",
       " <selenium.webdriver.remote.webelement.WebElement (session=\"393c8c3df2c86e69c89a20b5cdda1678\", element=\"43ba1372-ecff-4688-9310-9517dae38a1b\")>,\n",
       " <selenium.webdriver.remote.webelement.WebElement (session=\"393c8c3df2c86e69c89a20b5cdda1678\", element=\"a03255a3-16ac-4f74-8a04-a19ca506d37d\")>,\n",
       " <selenium.webdriver.remote.webelement.WebElement (session=\"393c8c3df2c86e69c89a20b5cdda1678\", element=\"10e7c3d0-7ba0-4885-8d7f-05f259133002\")>,\n",
       " <selenium.webdriver.remote.webelement.WebElement (session=\"393c8c3df2c86e69c89a20b5cdda1678\", element=\"b46c2ac4-1742-4a2a-b7ab-464f1a657a01\")>,\n",
       " <selenium.webdriver.remote.webelement.WebElement (session=\"393c8c3df2c86e69c89a20b5cdda1678\", element=\"17e88393-15f3-4bfe-9527-470d6b557667\")>,\n",
       " <selenium.webdriver.remote.webelement.WebElement (session=\"393c8c3df2c86e69c89a20b5cdda1678\", element=\"95b97726-594a-4e00-9081-3cf8cbde5f13\")>,\n",
       " <selenium.webdriver.remote.webelement.WebElement (session=\"393c8c3df2c86e69c89a20b5cdda1678\", element=\"fc5d608a-fbe6-42e3-ab34-7eaf8497a1d1\")>,\n",
       " <selenium.webdriver.remote.webelement.WebElement (session=\"393c8c3df2c86e69c89a20b5cdda1678\", element=\"81d4b438-2d17-427e-8f76-31bba79c7c9c\")>,\n",
       " <selenium.webdriver.remote.webelement.WebElement (session=\"393c8c3df2c86e69c89a20b5cdda1678\", element=\"2807da53-73f7-481c-a236-d0a2af24ab70\")>,\n",
       " <selenium.webdriver.remote.webelement.WebElement (session=\"393c8c3df2c86e69c89a20b5cdda1678\", element=\"85ea4009-279c-4251-bfd6-ce4f32de49ce\")>,\n",
       " <selenium.webdriver.remote.webelement.WebElement (session=\"393c8c3df2c86e69c89a20b5cdda1678\", element=\"1190925f-b90f-43ea-9256-498f2ea52dbc\")>,\n",
       " <selenium.webdriver.remote.webelement.WebElement (session=\"393c8c3df2c86e69c89a20b5cdda1678\", element=\"ec548d4e-6492-4261-944b-2700e295adf6\")>,\n",
       " <selenium.webdriver.remote.webelement.WebElement (session=\"393c8c3df2c86e69c89a20b5cdda1678\", element=\"199e9dc8-b3bc-4832-a879-c928bb6d657c\")>,\n",
       " <selenium.webdriver.remote.webelement.WebElement (session=\"393c8c3df2c86e69c89a20b5cdda1678\", element=\"9511f1d2-4b7f-4855-810e-49fd6c5a75ed\")>,\n",
       " <selenium.webdriver.remote.webelement.WebElement (session=\"393c8c3df2c86e69c89a20b5cdda1678\", element=\"40e1cdcb-a1b9-42a7-94e2-507302deeee1\")>,\n",
       " <selenium.webdriver.remote.webelement.WebElement (session=\"393c8c3df2c86e69c89a20b5cdda1678\", element=\"cd7ce92c-21fe-471a-bcab-9eed2e1bdbaf\")>,\n",
       " <selenium.webdriver.remote.webelement.WebElement (session=\"393c8c3df2c86e69c89a20b5cdda1678\", element=\"9601669d-7683-4abd-bad1-0af249506faf\")>,\n",
       " <selenium.webdriver.remote.webelement.WebElement (session=\"393c8c3df2c86e69c89a20b5cdda1678\", element=\"2be4936f-1b0d-4741-b97b-9638581c6d41\")>,\n",
       " <selenium.webdriver.remote.webelement.WebElement (session=\"393c8c3df2c86e69c89a20b5cdda1678\", element=\"ca01774e-8d86-4bf0-8e2b-4bf3dfb3f92d\")>,\n",
       " <selenium.webdriver.remote.webelement.WebElement (session=\"393c8c3df2c86e69c89a20b5cdda1678\", element=\"3b6fc8b4-e07e-4b20-b93e-7acc660aa3b5\")>,\n",
       " <selenium.webdriver.remote.webelement.WebElement (session=\"393c8c3df2c86e69c89a20b5cdda1678\", element=\"f1a60693-ef6f-4cda-9148-857e31999ffd\")>,\n",
       " <selenium.webdriver.remote.webelement.WebElement (session=\"393c8c3df2c86e69c89a20b5cdda1678\", element=\"c59e14bd-5891-4cae-830e-aef981db1136\")>,\n",
       " <selenium.webdriver.remote.webelement.WebElement (session=\"393c8c3df2c86e69c89a20b5cdda1678\", element=\"15e25f25-6080-4c1e-adff-323734be1891\")>,\n",
       " <selenium.webdriver.remote.webelement.WebElement (session=\"393c8c3df2c86e69c89a20b5cdda1678\", element=\"96f63e52-2b25-4e2b-9e32-e57800de87fe\")>,\n",
       " <selenium.webdriver.remote.webelement.WebElement (session=\"393c8c3df2c86e69c89a20b5cdda1678\", element=\"3dae8505-d8e9-4c88-93b9-733bdca83c5b\")>,\n",
       " <selenium.webdriver.remote.webelement.WebElement (session=\"393c8c3df2c86e69c89a20b5cdda1678\", element=\"6a1ad73f-d469-40c3-ac50-ad5c7da9d807\")>,\n",
       " <selenium.webdriver.remote.webelement.WebElement (session=\"393c8c3df2c86e69c89a20b5cdda1678\", element=\"1bdaea3a-d68b-48ee-975b-662e63754006\")>,\n",
       " <selenium.webdriver.remote.webelement.WebElement (session=\"393c8c3df2c86e69c89a20b5cdda1678\", element=\"d6b48445-c8a5-425f-9b44-d5ab291de5f7\")>,\n",
       " <selenium.webdriver.remote.webelement.WebElement (session=\"393c8c3df2c86e69c89a20b5cdda1678\", element=\"131f3e69-3eaa-47ab-9656-5aa296c91eab\")>,\n",
       " <selenium.webdriver.remote.webelement.WebElement (session=\"393c8c3df2c86e69c89a20b5cdda1678\", element=\"89bacf20-a48d-4cf8-9d89-96a7bd558e45\")>,\n",
       " <selenium.webdriver.remote.webelement.WebElement (session=\"393c8c3df2c86e69c89a20b5cdda1678\", element=\"6ed3eafd-996e-46b3-8f27-7905424a240b\")>,\n",
       " <selenium.webdriver.remote.webelement.WebElement (session=\"393c8c3df2c86e69c89a20b5cdda1678\", element=\"4f4baab3-dd46-4abe-8644-6d8190ad3861\")>,\n",
       " <selenium.webdriver.remote.webelement.WebElement (session=\"393c8c3df2c86e69c89a20b5cdda1678\", element=\"046d9199-77dc-47da-9ee4-5e44398f7c59\")>,\n",
       " <selenium.webdriver.remote.webelement.WebElement (session=\"393c8c3df2c86e69c89a20b5cdda1678\", element=\"07f8e9d2-495f-4e92-828f-9330b3179429\")>,\n",
       " <selenium.webdriver.remote.webelement.WebElement (session=\"393c8c3df2c86e69c89a20b5cdda1678\", element=\"797c131b-75d7-42bb-8f02-418c8f4e3f2d\")>,\n",
       " <selenium.webdriver.remote.webelement.WebElement (session=\"393c8c3df2c86e69c89a20b5cdda1678\", element=\"c953f607-3d8c-4970-b1e8-68fda94900aa\")>,\n",
       " <selenium.webdriver.remote.webelement.WebElement (session=\"393c8c3df2c86e69c89a20b5cdda1678\", element=\"8bd1ea59-f0f0-4568-a75b-2edd859cf246\")>,\n",
       " <selenium.webdriver.remote.webelement.WebElement (session=\"393c8c3df2c86e69c89a20b5cdda1678\", element=\"2d67722a-874a-4fcb-bb56-1a1a3b829f3c\")>,\n",
       " <selenium.webdriver.remote.webelement.WebElement (session=\"393c8c3df2c86e69c89a20b5cdda1678\", element=\"9595557b-48b6-4b91-85d1-799242d8a6de\")>,\n",
       " <selenium.webdriver.remote.webelement.WebElement (session=\"393c8c3df2c86e69c89a20b5cdda1678\", element=\"202c36ea-84f2-458e-8a01-21086409d677\")>]"
      ]
     },
     "execution_count": 36,
     "metadata": {},
     "output_type": "execute_result"
    }
   ],
   "source": [
    "# Filtramos los elementos de IMAGEN\n",
    "elements = driver.find_elements_by_xpath('//img')\n",
    "elements"
   ]
  },
  {
   "cell_type": "code",
   "execution_count": 37,
   "id": "c038d9bf",
   "metadata": {},
   "outputs": [
    {
     "data": {
      "text/plain": [
       "60"
      ]
     },
     "execution_count": 37,
     "metadata": {},
     "output_type": "execute_result"
    }
   ],
   "source": [
    "len(elements)"
   ]
  },
  {
   "cell_type": "markdown",
   "id": "374ca717",
   "metadata": {},
   "source": [
    "## Guardamos las imagenes"
   ]
  },
  {
   "cell_type": "markdown",
   "id": "02b8e14a",
   "metadata": {},
   "source": [
    "Iteramos las imagenes, capturamos, hacemos scroll"
   ]
  },
  {
   "cell_type": "code",
   "execution_count": 38,
   "id": "7d07efa0",
   "metadata": {},
   "outputs": [],
   "source": [
    "directory=\"./screenshots\" # el directorio de destino DEBE existir\n",
    "\n",
    "px_scroll = 60\n",
    "\n",
    "elements = driver.find_elements_by_xpath('//img')\n",
    "for idx, element in enumerate(elements):\n",
    "    with open(f\"{directory}/capture-{idx}.png\", 'wb') as file:\n",
    "        try:\n",
    "            file.write(element.screenshot_as_png)\n",
    "        except:\n",
    "            pass\n",
    "    wait_until(driver, 1)\n",
    "\n",
    "    driver.execute_script(f\"window.scrollTo(0,{300+(idx*px_scroll)})\")\n",
    "    wait_until(driver, 1)\n",
    "\n",
    "    if idx > 60:\n",
    "        break\n"
   ]
  },
  {
   "cell_type": "markdown",
   "id": "68d4939c",
   "metadata": {},
   "source": [
    "Finalizamos la sesion del navegador"
   ]
  },
  {
   "cell_type": "code",
   "execution_count": 39,
   "id": "d1dbb741",
   "metadata": {},
   "outputs": [],
   "source": [
    "driver.quit()"
   ]
  },
  {
   "cell_type": "code",
   "execution_count": null,
   "id": "7086b81f",
   "metadata": {},
   "outputs": [],
   "source": []
  }
 ],
 "metadata": {
  "kernelspec": {
   "display_name": "Python 3 (ipykernel)",
   "language": "python",
   "name": "python3"
  },
  "language_info": {
   "codemirror_mode": {
    "name": "ipython",
    "version": 3
   },
   "file_extension": ".py",
   "mimetype": "text/x-python",
   "name": "python",
   "nbconvert_exporter": "python",
   "pygments_lexer": "ipython3",
   "version": "3.9.13"
  }
 },
 "nbformat": 4,
 "nbformat_minor": 5
}
