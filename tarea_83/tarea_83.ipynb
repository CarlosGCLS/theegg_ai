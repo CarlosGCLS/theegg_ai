{
 "cells": [
  {
   "cell_type": "markdown",
   "id": "906eb303",
   "metadata": {},
   "source": [
    "# Calcular superficie de un cuadrado"
   ]
  },
  {
   "cell_type": "code",
   "execution_count": 12,
   "id": "f96005c2",
   "metadata": {},
   "outputs": [
    {
     "name": "stdout",
     "output_type": "stream",
     "text": [
      "Introduce lado del cuadrado: 5\n",
      "La superficie es:25\n"
     ]
    }
   ],
   "source": [
    "Lado = input (\"Introduce lado del cuadrado: \")\n",
    "Lado = int (Lado)\n",
    "Superficie = str(Lado  *  Lado)\n",
    "print (\"La superficie es:\" + Superficie)"
   ]
  }
 ],
 "metadata": {
  "kernelspec": {
   "display_name": "Python 3 (ipykernel)",
   "language": "python",
   "name": "python3"
  },
  "language_info": {
   "codemirror_mode": {
    "name": "ipython",
    "version": 3
   },
   "file_extension": ".py",
   "mimetype": "text/x-python",
   "name": "python",
   "nbconvert_exporter": "python",
   "pygments_lexer": "ipython3",
   "version": "3.9.12"
  }
 },
 "nbformat": 4,
 "nbformat_minor": 5
}
