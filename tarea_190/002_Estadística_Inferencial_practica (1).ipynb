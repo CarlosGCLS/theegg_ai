{
 "cells": [
  {
   "cell_type": "code",
   "execution_count": 1,
   "id": "d2892476",
   "metadata": {},
   "outputs": [],
   "source": [
    "import matplotlib.pyplot as plt # crear graficos\n",
    "plt.rcParams[\"figure.figsize\"] = (10,5) # cambiar el tamano de las figuras\n",
    "import seaborn as sns # graficos con dataframes\n",
    "\n",
    "import numpy as np # manipulacion de vectores\n",
    "import pandas as pd # manipulacion de dataframes igual R\n",
    "\n",
    "import statsmodels.api as sm # paquete estadístico parecido a R para modelos estadísticos\n",
    "from scipy import stats # librerías estadística\n",
    "import pingouin as pg # test etadísticos\n",
    "import math # funciones matematicas\n",
    "from scipy.stats import pearsonr # importar la función pearson\n",
    "import sklearn.metrics as metrics # métricas de error de modelos\n",
    "from sklearn.metrics import classification_report\n",
    "from sklearn.metrics import confusion_matrix\n",
    "from sklearn.metrics import accuracy_score\n",
    "\n",
    "import plotly.express as px # crear gráficos interactivos\n",
    "\n",
    "import plotly.figure_factory as ff # crear figuras especiales de plotly"
   ]
  },
  {
   "cell_type": "markdown",
   "id": "321f851e",
   "metadata": {},
   "source": [
    "La estadística inferencial nos sirve para poder modelar datos. Es decir, a partir de una muestra, \"calcular\" reglas generales o modelos estadísticos que nos permitan tomar decisiones basados en conclusiones robustas.\n",
    "\n",
    "En estadística podemos:\n",
    "- Comparar\n",
    "- Relacionar o asociar\n",
    "- Explicar la causalidad. Es decir, cómo afectan unos factores a una determinada variable o salida de interés.\n",
    "\n",
    "Todo se basa en modelar los datos utilizando:\n",
    "- Test estadísticos que nos permiten decidir si las hipótesis son ciertas o no. Los test estadísticos se aplican para comparar o relacionar.\n",
    "- Modelos estadísticos causales para poder explicar cómo afectan las entradas a la salida.\n",
    "\n",
    "Lo que vas a aprender con este notebook es realizar:\n",
    "- Comparaciones de medias: t-test, Wilkoxon, ANOVA y pairwise comparison\n",
    "- Correlaciones: spearman y pearson\n",
    "- Asociaciar o comparar proporciones: chi cuadrado\n",
    "- Modelo de regresión simple (problema de regresión)\n",
    "- Modelo de regresión múltiple (problema de regresión)\n",
    "- Modelo logístico (problema de clasificación)"
   ]
  },
  {
   "cell_type": "markdown",
   "id": "0ba5822d",
   "metadata": {},
   "source": [
    "Para ello te los voy a presentar con el mismo ejemplo de carseats:\n",
    "\n",
    "El set de datos Carseats contiene información sobre la venta de sillas infantiles en 400 tiendas distintas.\n",
    "\n",
    "Para cada una de las 400 tiendas se han registrado 11 variables.\n",
    "\n",
    "Se pretende generar un modelo de clasificación que permita predecir si una tienda tiene ventas altas (Sales > 8) o bajas (Sales <= 8) en función de todas las variables disponibles.\n",
    "\n",
    "En este caso, la variable respuesta o de salida son las ventas y las variables de entrada son aquellas relativas a las ventas como por ejemplo: la edad promedio de la población alrededor de esa tienda, el nivel de estudios, la colocación de los estantes etc...\n",
    "\n",
    "En este ejemplo podemos enfocar el problema como:\n",
    "\n",
    "1. Un problema de clasificación binaria donde la variable respuesta es cualitativa, es decir, ventas altas o bajas.\n",
    "2. Un problema de regresión donde la variable respuesta es cuantitativa, es decir, sales o ventas en millones de dolares.\n",
    "\n",
    "Vamos primero a calcular la variable respuesta ventas altas o bajas y vamos a ejecutar la descripción de las variables de entrada vs la salida en los dos casos:"
   ]
  },
  {
   "cell_type": "code",
   "execution_count": 2,
   "id": "21126ad2",
   "metadata": {},
   "outputs": [
    {
     "data": {
      "text/html": [
       "<div>\n",
       "<style scoped>\n",
       "    .dataframe tbody tr th:only-of-type {\n",
       "        vertical-align: middle;\n",
       "    }\n",
       "\n",
       "    .dataframe tbody tr th {\n",
       "        vertical-align: top;\n",
       "    }\n",
       "\n",
       "    .dataframe thead th {\n",
       "        text-align: right;\n",
       "    }\n",
       "</style>\n",
       "<table border=\"1\" class=\"dataframe\">\n",
       "  <thead>\n",
       "    <tr style=\"text-align: right;\">\n",
       "      <th></th>\n",
       "      <th>Sales</th>\n",
       "      <th>CompPrice</th>\n",
       "      <th>Income</th>\n",
       "      <th>Advertising</th>\n",
       "      <th>Population</th>\n",
       "      <th>Price</th>\n",
       "      <th>ShelveLoc</th>\n",
       "      <th>Age</th>\n",
       "      <th>Education</th>\n",
       "      <th>Urban</th>\n",
       "      <th>US</th>\n",
       "    </tr>\n",
       "  </thead>\n",
       "  <tbody>\n",
       "    <tr>\n",
       "      <th>0</th>\n",
       "      <td>9.50</td>\n",
       "      <td>138</td>\n",
       "      <td>73</td>\n",
       "      <td>11</td>\n",
       "      <td>276</td>\n",
       "      <td>120</td>\n",
       "      <td>Bad</td>\n",
       "      <td>42</td>\n",
       "      <td>17</td>\n",
       "      <td>Yes</td>\n",
       "      <td>Yes</td>\n",
       "    </tr>\n",
       "    <tr>\n",
       "      <th>1</th>\n",
       "      <td>11.22</td>\n",
       "      <td>111</td>\n",
       "      <td>48</td>\n",
       "      <td>16</td>\n",
       "      <td>260</td>\n",
       "      <td>83</td>\n",
       "      <td>Good</td>\n",
       "      <td>65</td>\n",
       "      <td>10</td>\n",
       "      <td>Yes</td>\n",
       "      <td>Yes</td>\n",
       "    </tr>\n",
       "    <tr>\n",
       "      <th>2</th>\n",
       "      <td>10.06</td>\n",
       "      <td>113</td>\n",
       "      <td>35</td>\n",
       "      <td>10</td>\n",
       "      <td>269</td>\n",
       "      <td>80</td>\n",
       "      <td>Medium</td>\n",
       "      <td>59</td>\n",
       "      <td>12</td>\n",
       "      <td>Yes</td>\n",
       "      <td>Yes</td>\n",
       "    </tr>\n",
       "    <tr>\n",
       "      <th>3</th>\n",
       "      <td>7.40</td>\n",
       "      <td>117</td>\n",
       "      <td>100</td>\n",
       "      <td>4</td>\n",
       "      <td>466</td>\n",
       "      <td>97</td>\n",
       "      <td>Medium</td>\n",
       "      <td>55</td>\n",
       "      <td>14</td>\n",
       "      <td>Yes</td>\n",
       "      <td>Yes</td>\n",
       "    </tr>\n",
       "    <tr>\n",
       "      <th>4</th>\n",
       "      <td>4.15</td>\n",
       "      <td>141</td>\n",
       "      <td>64</td>\n",
       "      <td>3</td>\n",
       "      <td>340</td>\n",
       "      <td>128</td>\n",
       "      <td>Bad</td>\n",
       "      <td>38</td>\n",
       "      <td>13</td>\n",
       "      <td>Yes</td>\n",
       "      <td>No</td>\n",
       "    </tr>\n",
       "  </tbody>\n",
       "</table>\n",
       "</div>"
      ],
      "text/plain": [
       "   Sales  CompPrice  Income  Advertising  Population  Price ShelveLoc  Age  \\\n",
       "0   9.50        138      73           11         276    120       Bad   42   \n",
       "1  11.22        111      48           16         260     83      Good   65   \n",
       "2  10.06        113      35           10         269     80    Medium   59   \n",
       "3   7.40        117     100            4         466     97    Medium   55   \n",
       "4   4.15        141      64            3         340    128       Bad   38   \n",
       "\n",
       "   Education Urban   US  \n",
       "0         17   Yes  Yes  \n",
       "1         10   Yes  Yes  \n",
       "2         12   Yes  Yes  \n",
       "3         14   Yes  Yes  \n",
       "4         13   Yes   No  "
      ]
     },
     "execution_count": 2,
     "metadata": {},
     "output_type": "execute_result"
    }
   ],
   "source": [
    "# Leemos los datos de carseats\n",
    "carseats = sm.datasets.get_rdataset(\"Carseats\", \"ISLR\")\n",
    "data = carseats.data\n",
    "data.head()"
   ]
  },
  {
   "cell_type": "code",
   "execution_count": 4,
   "id": "7aa27eb1",
   "metadata": {},
   "outputs": [
    {
     "data": {
      "text/html": [
       "<div>\n",
       "<style scoped>\n",
       "    .dataframe tbody tr th:only-of-type {\n",
       "        vertical-align: middle;\n",
       "    }\n",
       "\n",
       "    .dataframe tbody tr th {\n",
       "        vertical-align: top;\n",
       "    }\n",
       "\n",
       "    .dataframe thead th {\n",
       "        text-align: right;\n",
       "    }\n",
       "</style>\n",
       "<table border=\"1\" class=\"dataframe\">\n",
       "  <thead>\n",
       "    <tr style=\"text-align: right;\">\n",
       "      <th></th>\n",
       "      <th>Sales</th>\n",
       "      <th>CompPrice</th>\n",
       "      <th>Income</th>\n",
       "      <th>Advertising</th>\n",
       "      <th>Population</th>\n",
       "      <th>Price</th>\n",
       "      <th>ShelveLoc</th>\n",
       "      <th>Age</th>\n",
       "      <th>Education</th>\n",
       "      <th>Urban</th>\n",
       "      <th>US</th>\n",
       "      <th>ventas_altas</th>\n",
       "    </tr>\n",
       "  </thead>\n",
       "  <tbody>\n",
       "    <tr>\n",
       "      <th>0</th>\n",
       "      <td>9.50</td>\n",
       "      <td>138</td>\n",
       "      <td>73</td>\n",
       "      <td>11</td>\n",
       "      <td>276</td>\n",
       "      <td>120</td>\n",
       "      <td>Bad</td>\n",
       "      <td>42</td>\n",
       "      <td>17</td>\n",
       "      <td>Yes</td>\n",
       "      <td>Yes</td>\n",
       "      <td>1</td>\n",
       "    </tr>\n",
       "    <tr>\n",
       "      <th>1</th>\n",
       "      <td>11.22</td>\n",
       "      <td>111</td>\n",
       "      <td>48</td>\n",
       "      <td>16</td>\n",
       "      <td>260</td>\n",
       "      <td>83</td>\n",
       "      <td>Good</td>\n",
       "      <td>65</td>\n",
       "      <td>10</td>\n",
       "      <td>Yes</td>\n",
       "      <td>Yes</td>\n",
       "      <td>1</td>\n",
       "    </tr>\n",
       "    <tr>\n",
       "      <th>2</th>\n",
       "      <td>10.06</td>\n",
       "      <td>113</td>\n",
       "      <td>35</td>\n",
       "      <td>10</td>\n",
       "      <td>269</td>\n",
       "      <td>80</td>\n",
       "      <td>Medium</td>\n",
       "      <td>59</td>\n",
       "      <td>12</td>\n",
       "      <td>Yes</td>\n",
       "      <td>Yes</td>\n",
       "      <td>1</td>\n",
       "    </tr>\n",
       "    <tr>\n",
       "      <th>3</th>\n",
       "      <td>7.40</td>\n",
       "      <td>117</td>\n",
       "      <td>100</td>\n",
       "      <td>4</td>\n",
       "      <td>466</td>\n",
       "      <td>97</td>\n",
       "      <td>Medium</td>\n",
       "      <td>55</td>\n",
       "      <td>14</td>\n",
       "      <td>Yes</td>\n",
       "      <td>Yes</td>\n",
       "      <td>0</td>\n",
       "    </tr>\n",
       "    <tr>\n",
       "      <th>4</th>\n",
       "      <td>4.15</td>\n",
       "      <td>141</td>\n",
       "      <td>64</td>\n",
       "      <td>3</td>\n",
       "      <td>340</td>\n",
       "      <td>128</td>\n",
       "      <td>Bad</td>\n",
       "      <td>38</td>\n",
       "      <td>13</td>\n",
       "      <td>Yes</td>\n",
       "      <td>No</td>\n",
       "      <td>0</td>\n",
       "    </tr>\n",
       "  </tbody>\n",
       "</table>\n",
       "</div>"
      ],
      "text/plain": [
       "   Sales  CompPrice  Income  Advertising  Population  Price ShelveLoc  Age  \\\n",
       "0   9.50        138      73           11         276    120       Bad   42   \n",
       "1  11.22        111      48           16         260     83      Good   65   \n",
       "2  10.06        113      35           10         269     80    Medium   59   \n",
       "3   7.40        117     100            4         466     97    Medium   55   \n",
       "4   4.15        141      64            3         340    128       Bad   38   \n",
       "\n",
       "   Education Urban   US  ventas_altas  \n",
       "0         17   Yes  Yes             1  \n",
       "1         10   Yes  Yes             1  \n",
       "2         12   Yes  Yes             1  \n",
       "3         14   Yes  Yes             0  \n",
       "4         13   Yes   No             0  "
      ]
     },
     "execution_count": 4,
     "metadata": {},
     "output_type": "execute_result"
    }
   ],
   "source": [
    "# Calcular la variable respuesta binaria: ventas altas y bajas: \n",
    "data['ventas_altas'] = np.where(data.Sales > 8, 1, 0)\n",
    "data.head()"
   ]
  },
  {
   "cell_type": "markdown",
   "id": "a4b8b888",
   "metadata": {},
   "source": [
    "Ahora que ya tienes el problema más estructurado vas a aprender las herramientas inferenciales básicas y poderlas aplicar en tus propios datos.\n",
    "\n",
    "¡A por ello!"
   ]
  },
  {
   "cell_type": "markdown",
   "id": "a1845e4f",
   "metadata": {},
   "source": [
    "# Introducción a la estadística inferencial. Contraste de hipótesis"
   ]
  },
  {
   "cell_type": "markdown",
   "id": "969ab610",
   "metadata": {},
   "source": [
    "En estadística las preguntas se contestan con el método investigativo ligado al contraste de hipótesis.\n",
    "\n",
    "Se trata de plantear una hipótesis nula y una hipótesis de investigación.\n",
    "\n",
    "Suponemos que la hipótesis nula la suponemos cierta a priori antes de calcular.\n",
    "\n",
    "Por ejemplo: si queremos comparar el sueldo promedio entre grupos de personas que tengan estudios primarios y/o bachillerato y/o formación profesional respecto aquellos que tengan carrera o máster o doctorado. Para simplificar definimos:\n",
    "- Grupo 1: Estudios iniciales\n",
    "- Grupo 2: Estudios universidad\n",
    "\n",
    "\n",
    "La hipótesis nula se define como igualdad:\n",
    "\n",
    "- H0: el sueldo promedio entre las personas con estudios iniciales y estudios de universidad es igual.\n",
    "\n",
    "Y la hipótesis de investigación o H1 se define como diferencias:\n",
    "\n",
    "- H1: el sueldo promedio entre las personas con estudios iniciales y estudios de universidad es diferente.\n",
    "\n",
    "\n",
    "Para decidir si la H0 se puede rechazar como cierta se calcula el p-valor con un test estadístico o técnica estadística.\n",
    "\n",
    "En este caso podríamos aplicar un t-test para decidir si hay diferencias o no significativas entre el sueldo promedio por grupos de estudios.\n",
    "\n",
    "Calculamos el test y nos da una significación o p-valor =0.002.\n",
    "\n",
    "Si el p-valor es más pequeño que un umbral alpha (normalmente el 5%=0.05) podemos rechazar la H0 y quedarnos con la H1.\n",
    "\n",
    "En este caso nos quedaríamos con la H1 que hay diferencias ya que podemos rechazar la igualdad gracias a la prueba de significación estadística que hemos calculado.\n",
    "\n",
    "Acabas de descubrir el contraste de hipótesis el uso del p-valor.\n",
    "\n",
    "A continuación vas a aprender a utilizar este razonamiento para:\n",
    "\n",
    "- Comparar medias\n",
    "- Aplicar correlación\n",
    "- Comparar y asociar proporciones\n",
    "\n",
    "¡A por ello!\n"
   ]
  },
  {
   "cell_type": "markdown",
   "id": "ee04f599",
   "metadata": {},
   "source": [
    "# Comparación de medias"
   ]
  },
  {
   "cell_type": "markdown",
   "id": "141b22a6",
   "metadata": {},
   "source": [
    "Una de las primeras comprobaciones que podemos hacer es la comparación de medias. Se trata de comparar grupos teniendo en cuenta una variable numérica.\n",
    "\n",
    "Por ejemplo, comparar si el peso según el género es diferente o no. O si la altura es diferente o no según el género.\n",
    "\n",
    "Fíjate que en ambos casos utilizamos el peso o altura como variable cuantitativa y el sexo es una variable cualitativa que indica grupos.\n",
    "\n",
    "En la comparación definimos las hipótesis como:\n",
    "\n",
    "- H0: no hay diferencias entre el peso en función del género\n",
    "- H1: hay diferencias significativas entre el peso en función del género\n",
    "\n",
    "Ahora que ya conoces como se plantea el problema vamos a aprender a calcular el p-valor en diferentes casos.\n",
    "\n",
    "Los ejemplos que vas a ver son suponiendo normalidad en los grupos y por ello podemos utilizar los test paramétricos.\n",
    "\n",
    "Es un pequeño ejercicios para entender cómo se calcula y cómo se interpreta los resultados.\n",
    "\n",
    "Si quieres ver más detalles sobre de toda la matemática te dejo aquí los enlaces:\n",
    "\n",
    "- Artículo sobre ANOVA --> https://www.cienciadedatos.net/documentos/19_anova\n",
    "- Artículo sobre t-test --> https://www.cienciadedatos.net/documentos/pystats10-t-test-python.html"
   ]
  },
  {
   "cell_type": "markdown",
   "id": "153d8a7f",
   "metadata": {},
   "source": [
    "## T-test. Comparación dos grupos"
   ]
  },
  {
   "cell_type": "markdown",
   "id": "e4865a67",
   "metadata": {
    "hidePrompt": true
   },
   "source": [
    "Link ejemplo t-test: https://www.cienciadedatos.net/documentos/pystats10-t-test-python.html\n",
    "\n",
    "Vamos a comparar si hay ventas altas o no según el precio promedio de las productos de las tiendas.\n",
    "\n",
    "Podemos definir las siguientes hipótesis:\n",
    "\n",
    "- H0: el precio promedio del producto es igualdad en las tiendas de ventas bajas y de ventas altas\n",
    "- H1: el precio promedio del producto es diferente en las tiendas de ventas bajas y de ventas altas\n",
    "\n",
    "Vamos a \"contestar\" estas hipótesis utilizando el t-test:"
   ]
  },
  {
   "cell_type": "code",
   "execution_count": null,
   "id": "6235e232",
   "metadata": {},
   "outputs": [],
   "source": [
    "# T-test dos medias\n",
    "# Test para grupos independientes (p-value, intervalos de confianza)\n",
    "# ==============================================================================\n",
    "precio_ventas_bajas = data.loc[data[\"ventas_altas\"] == 0, 'Price']\n",
    "precio_ventas_altas = data.loc[data[\"ventas_altas\"] == 1, 'Price']\n",
    "\n",
    "pg.ttest(x=precio_ventas_bajas, y=precio_ventas_altas, alternative='two-sided', correction=False)"
   ]
  },
  {
   "cell_type": "markdown",
   "id": "d24c21a2",
   "metadata": {},
   "source": [
    "Fíjate que el p-valor es muy pequeño (casi zero).\n",
    "\n",
    "Eso quiere decir que tenemos diferentes significativas en el precio del producto en los grupos de tiendas con ventas altas y ventas bajas.\n",
    "\n",
    "¡Genial!"
   ]
  },
  {
   "cell_type": "markdown",
   "id": "a73a4b01",
   "metadata": {},
   "source": [
    "Podemos acompañar el cálculo con un gráfico y el cálculo de las medias por grupos:"
   ]
  },
  {
   "cell_type": "code",
   "execution_count": null,
   "id": "8ecf15d1",
   "metadata": {},
   "outputs": [],
   "source": [
    "# calcular el IC confianza de la media por grupos - https://stackoverflow.com/questions/53519823/confidence-interval-in-python-dataframe\n",
    "\n",
    "\n",
    "# import math\n",
    "\n",
    "df=data.copy()\n",
    "\n",
    "stats = df.groupby(['ventas_altas'])['Price'].agg(['mean', 'count', 'std'])\n",
    "print(stats)\n",
    "print('-'*30)\n",
    "\n",
    "ci95_hi = []\n",
    "ci95_lo = []\n",
    "\n",
    "for i in stats.index:\n",
    "    m, c, s = stats.loc[i]\n",
    "    ci95_hi.append(m + 1.96*s/math.sqrt(c))\n",
    "    ci95_lo.append(m - 1.96*s/math.sqrt(c))\n",
    "\n",
    "stats['ci95_hi'] = ci95_hi\n",
    "stats['ci95_lo'] = ci95_lo\n",
    "print(stats)"
   ]
  },
  {
   "cell_type": "code",
   "execution_count": null,
   "id": "cf189024",
   "metadata": {},
   "outputs": [],
   "source": [
    "# Histograma de densidad de un factor\n",
    "x = \"Price\" # selecciona la variable numérica\n",
    "y = \"ventas_altas\" # selecciona la variable cualitativa o factor\n",
    "\n",
    "sns.kdeplot(\n",
    "    data=data, x=x, hue=y,\n",
    "    fill=True, common_norm=False,\n",
    "    alpha=.5, linewidth=0)\n",
    "plt.show()"
   ]
  },
  {
   "cell_type": "code",
   "execution_count": null,
   "id": "92b1ac34",
   "metadata": {},
   "outputs": [],
   "source": [
    "# Diagramas de error o de medias de un factor. Muestra la media y el intervalo de confianza de la media\n",
    "\n",
    "x = \"Price\" # selecciona la variable numérica\n",
    "y = \"ventas_altas\" # selecciona la variable cualitativa o factor\n",
    "\n",
    "sns.pointplot(x=y, y=x, data=data)\n",
    "plt.show()"
   ]
  },
  {
   "cell_type": "markdown",
   "id": "accf6b46",
   "metadata": {},
   "source": [
    "Según la descriptiva podemos ver que el grupo con ventas altas tiene valores de precio del producto más elevado que el grupo de ventas altas.\n",
    "\n",
    "¡Ya tenemos la conclusión!"
   ]
  },
  {
   "cell_type": "markdown",
   "id": "79b9990a",
   "metadata": {},
   "source": [
    "## ANOVA comparación de más de dos grupos y pairwise comparison"
   ]
  },
  {
   "cell_type": "markdown",
   "id": "33c25cba",
   "metadata": {},
   "source": [
    "Link ejemplo anova: https://www.cienciadedatos.net/documentos/pystats09-analisis-de-varianza-anova-python.html\n",
    "\n",
    "En este ejemplo queremos comparar si las ventas en miles de USD (sales) son diferentes o no según la posición de los estantes.\n",
    "\n",
    "En este caso ya no tienes dos grupos como en ejemplo anterior, sino que tenemos tres grupos:\n",
    "\n",
    "La posición de los estantes es ShelveLoc y tiene tres grupos: Bad, medium, good. No podemos utilizar el t-test ya que es para dos grupos, necesitamos utilizar el ANOVA que es la técnica que se utiliza para tres o más grupos:\n",
    "\n",
    "Podemos definir las siguientes hipótesis en el ANOVA:\n",
    "\n",
    "- H0: las ventas son iguales en los tres grupos de localización de los estantes\n",
    "- H1: las ventas son diferentes entre algunos de los grupos de la locación de los estantes\n",
    "\n",
    "Vamos a \"contestar\" estas hipótesis utilizando el t-test:"
   ]
  },
  {
   "cell_type": "markdown",
   "id": "fa0461e6",
   "metadata": {},
   "source": [
    "Empezamos haciendo una mini descriptiva:"
   ]
  },
  {
   "cell_type": "code",
   "execution_count": null,
   "id": "3a71b12d",
   "metadata": {},
   "outputs": [],
   "source": [
    "# Número de observaciones por grupo\n",
    "# ==============================================================================\n",
    "data.groupby('ShelveLoc').size()"
   ]
  },
  {
   "cell_type": "code",
   "execution_count": null,
   "id": "410b7bde",
   "metadata": {},
   "outputs": [],
   "source": [
    "# Média y desviación típica por grupo\n",
    "# ==============================================================================\n",
    "data.groupby('ShelveLoc').agg(['mean', 'std'])"
   ]
  },
  {
   "cell_type": "code",
   "execution_count": null,
   "id": "e2402019",
   "metadata": {},
   "outputs": [],
   "source": [
    "# Varios plots a la vez de un factor:\n",
    "\n",
    "x = \"Sales\" # selecciona la variable numérica\n",
    "y = \"ShelveLoc\" # selecciona la variable cualitativa o factor\n",
    "\n",
    "fig, axs = plt.subplots(ncols=4, figsize=(15, 8))\n",
    "sns.kdeplot(\n",
    "    data=data, x=x, hue=y,\n",
    "    fill=True, common_norm=False,\n",
    "    alpha=.5, linewidth=0, ax=axs[0])\n",
    "sns.boxplot(data=data, y=x, x=y,ax=axs[1])\n",
    "sns.stripplot(y= x,data=data, x =y,ax=axs[2])\n",
    "sns.violinplot(data=data, y=x, x=y,ax=axs[3])\n",
    "fig.tight_layout()\n",
    "plt.show()"
   ]
  },
  {
   "cell_type": "markdown",
   "id": "2eb61d1d",
   "metadata": {},
   "source": [
    "Según la descriptiva podemos intuir que las ventas son más altas en el grupo de Good que no de Bad o Medium.\n",
    "\n",
    "La descriptiva nos da pistas de lo que pasa :)"
   ]
  },
  {
   "cell_type": "code",
   "execution_count": null,
   "id": "6c0d28f5",
   "metadata": {},
   "outputs": [],
   "source": [
    "# ANOVA\n",
    "# Test ANOVA de una vía (One-way ANOVA)\n",
    "# ==============================================================================\n",
    "pg.anova(data=data, dv='Sales', between='ShelveLoc', detailed=True)"
   ]
  },
  {
   "cell_type": "markdown",
   "id": "851fb1a9",
   "metadata": {},
   "source": [
    "El p-valor aquí es p-unc = 1.266936e-33 --> 0\n",
    "\n",
    "Podemos rechazar la hipótesis nula y quedarnos con la hipótesis alternativa.\n",
    "\n",
    "Es decir, hay diferencias en algún grupo.\n",
    "\n",
    "Pero... entre qué grupos hay diferencias. Para contestar ello podemos utilizar la comparación por parejas:"
   ]
  },
  {
   "cell_type": "code",
   "execution_count": null,
   "id": "fcfee91b",
   "metadata": {},
   "outputs": [],
   "source": [
    "# Pairwise comparison\n",
    "# Post-hoc Tukey test\n",
    "# ==============================================================================\n",
    "pg.pairwise_tukey(data=data, dv='Sales', between='ShelveLoc').round(3)"
   ]
  },
  {
   "cell_type": "markdown",
   "id": "5dae9ded",
   "metadata": {},
   "source": [
    "Si te fijas en las filas, la columna A y B nos indica la comparación de las parejas de grupos y nos calcula el p-valor en la columna p-tukey.\n",
    "\n",
    "Cada fila tiene un contraste de hipótesis.\n",
    "\n",
    "En la primera fila dónde comparamos Bad con Good nos damos cuenta que tenemos medias diferentes y además con p-valor más pequeño que el 0.05 por ello podemos decir que hay diferencias significativas entre el grupo Bas y grupo Good.\n",
    "\n",
    "Y además, vemos que en el grupo Good las ventas son significativamente más altas.\n",
    "\n",
    "Este razonamiento es aplicable a cada fila.\n",
    "\n",
    "Ahora ya sabemos que hay diferecias entre todos los grupos entre ellos ya que el p-valor es significativo (menor que el 0.05) en todas las comparaciones por parejas que estamos haciendo el test pairwise."
   ]
  },
  {
   "cell_type": "markdown",
   "id": "9e23dc4c",
   "metadata": {},
   "source": [
    "# Correlación"
   ]
  },
  {
   "cell_type": "markdown",
   "id": "38ff4fb7",
   "metadata": {},
   "source": [
    "La correlación también la podemos calcular de manera estadística con el p-valor y contestar a las hipótesis.\n",
    "\n",
    "En el caso de la correlación o la asociación entre dos medidas también se pueden definir las hipótesis:\n",
    "\n",
    "Por ejemplo: queremos relacionar el peso con el consumo de modelos de coche, entonces las hipótesis se puede definir como:\n",
    "\n",
    "- H0: el consumo y el peso no están relacionados o asociados\n",
    "- H1: el consumo y el peso están asociados o relacionados\n",
    "\n",
    "¡Vamos a ver cómo se contesta en la práctica!\n",
    "\n",
    "Podemos utilizar principalmente tres coeficientes de correlación.\n",
    "\n",
    "El coeficiente de Pearson, coeficiente de Spearman o el coeficiente de Kendall.\n",
    "- El de Pearson se utiliza cuando las variables son normales\n",
    "- El de Spearman cuando alguna no lo es.\n",
    "- El de Kendall cuando las dos variables son ordinales\n",
    "\n",
    "Los tres coeficientes mide la asociación positiva o negativa.\n",
    "Toman valores entre [-1, +1], siendo +1 una correlación lineal positiva perfecta y -1 una correlación lineal negativa perfecta.\n",
    "\n",
    "\n",
    "Link de ejemplo de correlación: https://www.cienciadedatos.net/documentos/pystats05-correlacion-lineal-python.html"
   ]
  },
  {
   "cell_type": "markdown",
   "id": "26db6fb4",
   "metadata": {},
   "source": [
    "Vamos a relacionar las ventas con el precio.\n",
    "\n",
    "Empezamos aplicando la descriptiva e intuimos una correlación negativa.\n",
    "\n",
    "Es decir, cuando aumentamos el valor del precio disminuyen las ventas y viceversa.\n"
   ]
  },
  {
   "cell_type": "code",
   "execution_count": null,
   "id": "6182df60",
   "metadata": {},
   "outputs": [],
   "source": [
    "# Diagramas de dispersión 2D\n",
    "\n",
    "x = 'Price'\n",
    "y = 'Sales'\n",
    "\n",
    "\n",
    "# seaborn\n",
    "sns.scatterplot(data=data, x=x, y=y)\n",
    "plt.show()\n",
    "\n",
    "\n",
    "# plotly\n",
    "fig = px.scatter(data,x=x,y=y)\n",
    "fig.show()"
   ]
  },
  {
   "cell_type": "code",
   "execution_count": null,
   "id": "1836e3ab",
   "metadata": {
    "hideCode": false
   },
   "outputs": [],
   "source": [
    "# Cálculo de correlación con Pandas\n",
    "# ==============================================================================\n",
    "print('Correlación Pearson: ', data['Sales'].corr(data['Price'], method='pearson'))\n",
    "print('Correlación spearman: ', data['Sales'].corr(data['Price'], method='spearman'))\n",
    "print('Correlación kendall: ', data['Sales'].corr(data['Price'], method='kendall'))"
   ]
  },
  {
   "cell_type": "code",
   "execution_count": null,
   "id": "94009217",
   "metadata": {},
   "outputs": [],
   "source": [
    "# Cálculo de correlación y significancia con Scipy\n",
    "# ==============================================================================\n",
    "r, p = stats.pearsonr(data['Sales'], data['Price'])\n",
    "print(f\"Correlación Pearson: r={r}, p-value={p}\")\n",
    "\n",
    "r, p = stats.spearmanr(data['Sales'], data['Price'])\n",
    "print(f\"Correlación Spearman: r={r}, p-value={p}\")\n",
    "\n",
    "r, p = stats.kendalltau(data['Sales'], data['Price'])\n",
    "print(f\"Correlación Pearson: r={r}, p-value={p}\")"
   ]
  },
  {
   "cell_type": "markdown",
   "id": "6b7694eb",
   "metadata": {},
   "source": [
    "El p-valor es signifivo en los tres coeficientes.\n",
    "\n",
    "Nos quedamos con la hipótesis de que hay correlación o asociación entre el precio y las ventas.\n"
   ]
  },
  {
   "cell_type": "markdown",
   "id": "c2ce4fb0",
   "metadata": {},
   "source": [
    "#  Chi cuadrado. Asociación / comparación de proporciones"
   ]
  },
  {
   "cell_type": "markdown",
   "id": "57b71bf3",
   "metadata": {},
   "source": [
    "Ahora es el turno de comparar y asociar proporciones en un mismo test.\n",
    "\n",
    "El test de chi cudrado nos permite comparar las proporciones entre dos variables cualtitativas.\n",
    "\n",
    "Por ejemplo, vamos a comparar el grupo de ventas altas y bajas con la variable ShelveLoc (localización de los estantes).\n",
    "\n",
    "Ambas variables son cualitativas y queremos comparar las proporciones.\n",
    "\n",
    "Es decir, queremos ver si la distribución de proporciones del grupo de ventas altas es igual o diferente a la distribución de proporciones de ventas bajas.\n",
    "\n",
    "Empezamos a describir y lo verás más claro:"
   ]
  },
  {
   "cell_type": "code",
   "execution_count": null,
   "id": "940f5af1",
   "metadata": {},
   "outputs": [],
   "source": [
    "# Diagramas de barras de dos factores de frecuencias condicionadas a los grupos de la variable x\n",
    "\n",
    "x = 'ventas_altas'\n",
    "y = 'ShelveLoc'\n",
    "\n",
    "\n",
    "pct2 = (data.groupby([x,y]).size() / data.groupby([x]).size()).reset_index().rename({0:'Frecuencia Condicionada'}, axis=1)\n",
    "\n",
    "\n",
    "# seaborn\n",
    "sns.barplot(x=x, hue=y, y='Frecuencia Condicionada', data=pct2)\n",
    "plt.show()\n",
    "\n",
    "pct2"
   ]
  },
  {
   "cell_type": "markdown",
   "id": "997d3b95",
   "metadata": {},
   "source": [
    "Para el grupo de ventas_altas = 0 tenemos un reparto de proporciones:\n",
    "    \n",
    "    34.7% BAD\n",
    "    8% GOOD\n",
    "    57.3% MEDIUM\n",
    "    \n",
    "Y paa el grupo de ventas_altas = 1 tenemos un reparto de proporciones:\n",
    "\n",
    "    8.5% BAD\n",
    "    40.2% GOOD\n",
    "    51.1% MEDIUM\n",
    "    \n",
    "Fíjate que el reparto es diferente en proporciones.\n",
    "Queremos contestar esto con el test de Chi Cuadrado y ver si:\n",
    "\n",
    "- H0: hay igualdad entre las proporciones de un grupo y el otro\n",
    "- H1: hay diferencias entre las proporciones de un grupo y otro\n",
    "\n",
    "El test de Chi Cuadrado también mide la asociación entre las dos variables asi que también existen las hipótesis:\n",
    "\n",
    "- H0: ventas_altas no está relacionada con ShelveLoc\n",
    "- H1: ventas_altas está relacionada con ShelveLoc\n",
    "\n",
    "Mire comparación y relación en un mismo test.\n",
    "\n",
    "Vamos a aplicarlo:"
   ]
  },
  {
   "cell_type": "markdown",
   "id": "48a8068d",
   "metadata": {},
   "source": [
    "Link ejemplo de Chi Cuadrado: https://towardsdatascience.com/chi-square-test-for-independence-cf2f5057cc35"
   ]
  },
  {
   "cell_type": "code",
   "execution_count": null,
   "id": "b9b9d4a4",
   "metadata": {},
   "outputs": [],
   "source": [
    "# Chi Cuadrado\n",
    "valores_esperados, valores_observados, stats = pg.chi2_independence(data,x='ventas_altas',y='ShelveLoc')"
   ]
  },
  {
   "cell_type": "code",
   "execution_count": null,
   "id": "abd3f278",
   "metadata": {},
   "outputs": [],
   "source": [
    "valores_esperados"
   ]
  },
  {
   "cell_type": "markdown",
   "id": "e366b85c",
   "metadata": {},
   "source": [
    "Son las frecuencias absolutas que esperaríamos si no hubiese relación entre ambas variables"
   ]
  },
  {
   "cell_type": "markdown",
   "id": "968fb0d2",
   "metadata": {},
   "source": [
    "En cambio, en nuestra muestra de datos obseramos esta tabla:"
   ]
  },
  {
   "cell_type": "code",
   "execution_count": null,
   "id": "35097a41",
   "metadata": {},
   "outputs": [],
   "source": [
    "valores_observados"
   ]
  },
  {
   "cell_type": "markdown",
   "id": "4178426f",
   "metadata": {},
   "source": [
    "Si te fijas en ambas tablas ves diferencias entre valores observados y valores esperados.\n",
    "\n",
    "En este caso, los residuos O = valores_esperados - valores_observados"
   ]
  },
  {
   "cell_type": "code",
   "execution_count": null,
   "id": "edb76cb3",
   "metadata": {},
   "outputs": [],
   "source": [
    "valores_esperados-valores_observados"
   ]
  },
  {
   "cell_type": "markdown",
   "id": "4ed0e5bf",
   "metadata": {},
   "source": [
    "Aquí puedes ver en qué celdas o parejas de grupos hay más desajuste y en qué sentido.\n",
    "\n",
    "Estos residuos cuando se estandarizan son los que usa la fórmula para calcular el estadístico Chi Cuadrado y finalmente el p-valor.\n",
    "\n"
   ]
  },
  {
   "cell_type": "code",
   "execution_count": null,
   "id": "d7df466a",
   "metadata": {},
   "outputs": [],
   "source": [
    "stats"
   ]
  },
  {
   "cell_type": "markdown",
   "id": "bbc0dad2",
   "metadata": {},
   "source": [
    "Puedes ver como el p-valor en el de pearson que es el más común de los cálculos de los residuos es significativo y por ello nos quedamos que hay diferencias entre las proporciones de un grupo y otro y además que hay relación entre las variables de Sales y ShalveLoc"
   ]
  },
  {
   "cell_type": "markdown",
   "id": "1b856018",
   "metadata": {},
   "source": [
    "# Modelo de regresión simple"
   ]
  },
  {
   "cell_type": "markdown",
   "id": "f30b0bfc",
   "metadata": {},
   "source": [
    "Si hasta ahora hemos contesta comparaciones y relaciones.\n",
    "\n",
    "Es el momento de contestas la causalidad.\n",
    "\n",
    "La causalidad es propia de los modelos y es propia también de las funciones matemáticas.\n",
    "\n",
    "Te invito a que leas primero este ejemplo: https://conceptosclaros.com/que-es-modelo-matematico/"
   ]
  },
  {
   "cell_type": "markdown",
   "id": "cc0eabef",
   "metadata": {},
   "source": [
    "De esta manera vas a entender mejor qués es un modelo estadístico y por consecuencia la causalidad.\n",
    "\n",
    "Si, si... lee primer el artículo y después vuelve aquí:"
   ]
  },
  {
   "cell_type": "markdown",
   "id": "95e22886",
   "metadata": {},
   "source": [
    "En este ejemplo vamos a calcular si las ventas Sales se pueden explicar por el precio promedio del producto."
   ]
  },
  {
   "cell_type": "markdown",
   "id": "358cdfcd",
   "metadata": {},
   "source": [
    "De forma descriptiva sería esto:"
   ]
  },
  {
   "cell_type": "code",
   "execution_count": null,
   "id": "edc17780",
   "metadata": {},
   "outputs": [],
   "source": [
    "# Scatterplot 2d con linea de tendencia por grupos\n",
    "\n",
    "x = \"Price\" # variable numérica eje horizontal\n",
    "y = \"Sales\" # variable numérica eje vertical\n",
    "\n",
    "sns.set_theme()\n",
    "\n",
    "# Plot sepal width as a function of sepal_length across days\n",
    "g = sns.lmplot(\n",
    "    data=data,\n",
    "    x=x, y=y,\n",
    "    height=5\n",
    ")\n",
    "plt.show()"
   ]
  },
  {
   "cell_type": "markdown",
   "id": "cab4dae3",
   "metadata": {},
   "source": [
    "Es decir, Sales en función de Price o lo que es lo mismo:\n",
    "\n",
    "Sales = f(Price)\n",
    "\n",
    "Vamos a calcular esa recta lineal o función matemática que explique las Sales en función del Price:\n",
    "\n",
    "Ejemplos de regresión lineal simpe: https://www.cienciadedatos.net/documentos/py10-regresion-lineal-python.html"
   ]
  },
  {
   "cell_type": "code",
   "execution_count": null,
   "id": "4c181cbd",
   "metadata": {},
   "outputs": [],
   "source": [
    "# Definimos primero la matriz de entrada y la variable de salida:\n",
    "\n",
    "y = data['Sales']\n",
    "X = data['Price']"
   ]
  },
  {
   "cell_type": "code",
   "execution_count": null,
   "id": "ff7c38d7",
   "metadata": {},
   "outputs": [],
   "source": [
    "# Regresión lineal Simple\n",
    "# Creación del modelo utilizando matrices como en scikitlearn\n",
    "# ==============================================================================\n",
    "# A la matriz de predictores se le tiene que añadir una columna de 1s para el intercept del modelo\n",
    "X_ = sm.add_constant(X, prepend=True)\n",
    "modelo = sm.OLS(endog=y, exog=X_)\n",
    "modelo = modelo.fit()\n",
    "print(modelo.summary())"
   ]
  },
  {
   "cell_type": "markdown",
   "id": "771d93e4",
   "metadata": {},
   "source": [
    "Si observas en la tabla podemos ver la fórmula de linea recta gracias a los coeficientes:\n",
    "\n",
    "La fórmula es:\n",
    "\n",
    "    Sales = 13.6419 - 0.0531 * Price\n",
    "\n",
    "Es decir, que a mayor Price menor son las ventas ya que el coeficiente es negativo.\n",
    "\n",
    "¡Maravilloso!\n",
    "\n",
    "Además me permite estimar las ventas de una tienda según el precio que tenga esa tienda.\n",
    "\n",
    "Por ejemplo si tenemos una tienda con Price = 150 las Sales serán:"
   ]
  },
  {
   "cell_type": "code",
   "execution_count": null,
   "id": "9db48301",
   "metadata": {},
   "outputs": [],
   "source": [
    "13.6219-0.0531*150"
   ]
  },
  {
   "cell_type": "markdown",
   "id": "93f02249",
   "metadata": {},
   "source": [
    "De hecho podemos calcular los valores predichos por el modelo o estimados por el modelo:"
   ]
  },
  {
   "cell_type": "markdown",
   "id": "020400ca",
   "metadata": {},
   "source": [
    "Podemos montar un data frame con los valores estimados, los valores reales y el error"
   ]
  },
  {
   "cell_type": "code",
   "execution_count": null,
   "id": "d3de94c5",
   "metadata": {},
   "outputs": [],
   "source": [
    "valores_estimados = modelo.predict()"
   ]
  },
  {
   "cell_type": "code",
   "execution_count": null,
   "id": "4f0446d7",
   "metadata": {},
   "outputs": [],
   "source": [
    "resultados_modelo = pd.DataFrame(valores_estimados)\n",
    "resultados_modelo.columns = ['Valores Estimados']\n",
    "resultados_modelo['Valores Reales'] = y\n",
    "resultados_modelo['Residuo'] = resultados_modelo['Valores Reales']-resultados_modelo['Valores Estimados']\n",
    "resultados_modelo.head()"
   ]
  },
  {
   "cell_type": "code",
   "execution_count": null,
   "id": "0b7cec0d",
   "metadata": {},
   "outputs": [],
   "source": [
    "sns.scatterplot(data=resultados_modelo, x = np.arange(len(resultados_modelo)),y=\"Residuo\")\n",
    "plt.show()"
   ]
  },
  {
   "cell_type": "code",
   "execution_count": null,
   "id": "a3d7d5c0",
   "metadata": {},
   "outputs": [],
   "source": [
    "\n",
    "# Descrpcion de una variable cuantitativa: \"residuos\"\n",
    "df = resultados_modelo\n",
    "fig, axs = plt.subplots(ncols=4, figsize=(10, 4))\n",
    "# Histograma de densidad\n",
    "sns.kdeplot(\n",
    "    data=df, x='Residuo',\n",
    "    fill=True, common_norm=False, palette=\"crest\",\n",
    "    alpha=.5, linewidth=0, ax=axs[0])\n",
    "# Boxplot\n",
    "sns.boxplot(data=df, y='Residuo',ax=axs[1])\n",
    "# Stripchart\n",
    "sns.stripplot(y= 'Residuo',data=df,ax=axs[2])\n",
    "# Violinplot\n",
    "sns.violinplot(data=df, y='Residuo',ax=axs[3])\n",
    "fig.tight_layout()\n",
    "plt.show()"
   ]
  },
  {
   "cell_type": "markdown",
   "id": "35cac777",
   "metadata": {},
   "source": [
    "En general, para que un modelo sea válido los residuos tienen que ser normales.\n",
    "\n",
    "Y digo, en general. Es una manera bastante usada para decidir si tus modelo le falta información.\n"
   ]
  },
  {
   "cell_type": "markdown",
   "id": "e3c25f53",
   "metadata": {},
   "source": [
    "Otra manera es mirar los p-valores de los coeficientes en este caso los p-valores se encuntran el la columna P>|t|"
   ]
  },
  {
   "cell_type": "code",
   "execution_count": null,
   "id": "b83347b1",
   "metadata": {},
   "outputs": [],
   "source": [
    "print(modelo.summary())"
   ]
  },
  {
   "cell_type": "markdown",
   "id": "d36f0505",
   "metadata": {},
   "source": [
    "Podemos decir que el modelo es correcto pero ...\n",
    "\n",
    "¿Qué pasa con otras variables?\n",
    "\n",
    "¿Sería bueno introducir más variables?\n",
    "\n",
    "Llega el momento del modelo de regresión múltiple:"
   ]
  },
  {
   "cell_type": "markdown",
   "id": "c240e0f6",
   "metadata": {
    "hideCode": true
   },
   "source": [
    "# Modelo de regresión múltiple. Problema de regresión"
   ]
  },
  {
   "cell_type": "markdown",
   "id": "309ef321",
   "metadata": {},
   "source": [
    "El siguiente paso es seleccionar algunas variables que creemos que pueden ser interesantes para el modelo y añadirlas a la ecuación.\n",
    "\n",
    "Para simplificar el ejemplo vamos a trabajar con aquellas variables numéricas que tenemos correlación:"
   ]
  },
  {
   "cell_type": "code",
   "execution_count": null,
   "id": "65662b65",
   "metadata": {},
   "outputs": [],
   "source": [
    "data.columns"
   ]
  },
  {
   "cell_type": "code",
   "execution_count": null,
   "id": "6428882b",
   "metadata": {},
   "outputs": [],
   "source": [
    "# Seleccionamos las variables numéricas y la respuests:\n",
    "var_num = ['Sales','CompPrice', 'Income', 'Advertising', 'Population', 'Price','Age', 'Education']\n",
    "X_num_tot = data[var_num]"
   ]
  },
  {
   "cell_type": "code",
   "execution_count": null,
   "id": "97afa063",
   "metadata": {},
   "outputs": [],
   "source": [
    "# Correlacion en valor absoluta de la variable de salida\n",
    "cor = X_num_tot.corr(method = 'spearman')\n",
    "cor_target = pd.DataFrame(abs(cor['Sales']))\n",
    "cor_target = cor_target.sort_values(by = 'Sales',ascending = 0)\n",
    "cor_target"
   ]
  },
  {
   "cell_type": "code",
   "execution_count": null,
   "id": "582e1bdb",
   "metadata": {},
   "outputs": [],
   "source": [
    "cor_target.index"
   ]
  },
  {
   "cell_type": "markdown",
   "id": "8449e330",
   "metadata": {},
   "source": [
    "En la tabla anterior vemos que algunas de las variables tienen correlación muy baja. Podríamos eliminar, Income, CompPrice, Population, Education"
   ]
  },
  {
   "cell_type": "code",
   "execution_count": null,
   "id": "f1b9fc86",
   "metadata": {},
   "outputs": [],
   "source": [
    "# Definimos primero la matriz de entrada y la variable de salida:\n",
    "\n",
    "y = data['Sales']\n",
    "X = data[['Price', 'Advertising', 'Age']]"
   ]
  },
  {
   "cell_type": "code",
   "execution_count": null,
   "id": "a5842af6",
   "metadata": {},
   "outputs": [],
   "source": [
    "# Regresión lineal múltiple\n",
    "# Creación del modelo utilizando matrices como en scikitlearn\n",
    "# ==============================================================================\n",
    "# A la matriz de predictores se le tiene que añadir una columna de 1s para el intercept del modelo\n",
    "X_ = sm.add_constant(X, prepend=True)\n",
    "modelo = sm.OLS(endog=y, exog=X_)\n",
    "modelo = modelo.fit()\n",
    "print(modelo.summary())"
   ]
  },
  {
   "cell_type": "markdown",
   "id": "2fd2304c",
   "metadata": {},
   "source": [
    "Todas las variables son significativas con la salida, vamos a comprobar los residuos:"
   ]
  },
  {
   "cell_type": "code",
   "execution_count": null,
   "id": "09df9923",
   "metadata": {},
   "outputs": [],
   "source": [
    "valores_estimados = modelo.predict()\n",
    "resultados_modelo = pd.DataFrame(valores_estimados)\n",
    "resultados_modelo.columns = ['Valores Estimados']\n",
    "resultados_modelo['Valores Reales'] = y\n",
    "resultados_modelo['Residuo'] = resultados_modelo['Valores Reales']-resultados_modelo['Valores Estimados']\n",
    "resultados_modelo.head()"
   ]
  },
  {
   "cell_type": "code",
   "execution_count": null,
   "id": "2c5a8812",
   "metadata": {},
   "outputs": [],
   "source": [
    "sns.scatterplot(data=resultados_modelo, x = np.arange(len(resultados_modelo)),y=\"Residuo\")\n",
    "plt.show()"
   ]
  },
  {
   "cell_type": "code",
   "execution_count": null,
   "id": "bebe1fd8",
   "metadata": {},
   "outputs": [],
   "source": [
    "\n",
    "# Descrpcion de una variable cuantitativa: \"residuos\"\n",
    "df = resultados_modelo\n",
    "fig, axs = plt.subplots(ncols=4, figsize=(10, 4))\n",
    "# Histograma de densidad\n",
    "sns.kdeplot(\n",
    "    data=df, x='Residuo',\n",
    "    fill=True, common_norm=False, palette=\"crest\",\n",
    "    alpha=.5, linewidth=0, ax=axs[0])\n",
    "# Boxplot\n",
    "sns.boxplot(data=df, y='Residuo',ax=axs[1])\n",
    "# Stripchart\n",
    "sns.stripplot(y= 'Residuo',data=df,ax=axs[2])\n",
    "# Violinplot\n",
    "sns.violinplot(data=df, y='Residuo',ax=axs[3])\n",
    "fig.tight_layout()\n",
    "plt.show()"
   ]
  },
  {
   "cell_type": "markdown",
   "id": "3e40bf0e",
   "metadata": {},
   "source": [
    "Son residuos bastante normales y además los coeficientes son significativos."
   ]
  },
  {
   "cell_type": "markdown",
   "id": "1da1a2a4",
   "metadata": {},
   "source": [
    "¡Tenemos un modelo válido para usarlo!\n",
    "\n",
    "Ahroa bien, ¿es un modelo potente para predecir?\n",
    "\n",
    "¿Qué error comento en promedio?"
   ]
  },
  {
   "cell_type": "markdown",
   "id": "d9113fb0",
   "metadata": {},
   "source": [
    "Las métricas para saber si un modelo de regresión es bueno o no son:\n",
    "- RMSE - root mean square error\n",
    "- MAE - mean absolute error\n",
    "- R2 - coeficiente de determinación"
   ]
  },
  {
   "cell_type": "code",
   "execution_count": null,
   "id": "007e669f",
   "metadata": {},
   "outputs": [],
   "source": [
    "modelo.summary()"
   ]
  },
  {
   "cell_type": "code",
   "execution_count": null,
   "id": "3e3cc3ee",
   "metadata": {},
   "outputs": [],
   "source": [
    "y_pred = modelo.predict()\n",
    "mae = metrics.mean_absolute_error(y, y_pred)\n",
    "mse = metrics.mean_squared_error(y, y_pred)\n",
    "rmse = np.sqrt(mse) # or mse**(0.5)  \n",
    "r2 = metrics.r2_score(y,y_pred)\n",
    "print(\"MAE:\",mae)\n",
    "#print(\"MSE:\", mse)\n",
    "print(\"RMSE:\", rmse)\n",
    "print(\"R-Squared:\", r2)"
   ]
  },
  {
   "cell_type": "markdown",
   "id": "9dd5a0dd",
   "metadata": {},
   "source": [
    "R2 nos indica que el modelo no es muy bueno ya que lo ideal es estar en valores en torno al 0.7 hacia arriba.\n",
    "\n",
    "Tenemos un modelo pobre que comete errores de predicción. El siguiente paso sería añadir otras variables que nos puedas dar más información acerca de la variable Sales.\n",
    "\n",
    "Te lo dejo para ti :)"
   ]
  },
  {
   "cell_type": "markdown",
   "id": "e5dd4db8",
   "metadata": {},
   "source": [
    "# Modelo logístico. Problema de clasificador binario"
   ]
  },
  {
   "cell_type": "markdown",
   "id": "f434d187",
   "metadata": {},
   "source": [
    "La última técnica que vamos a ver es el modelo logístico.\n",
    "\n",
    "El modelo logístico funciona como un modelo de regresión, es decir, tenemos variables de entrada y variable de salida que queremos explicar.\n",
    "\n",
    "La estructura es la misma pero en lugar de utilizar una variable de salida que es cuantitativa utilizaremos una variable de salida es una varible binaria, es decir, si o no.\n",
    "\n",
    "Por ejemplo, la variable ventas_altas.\n",
    "\n",
    "En este caso atacamos un problema clasificador ya que lo que queremos es clasificar entre el grupo 0 = ventas bajas o el grupo 1 = ventas_altas\n",
    "\n",
    "- Léete este artículo: https://conceptosclaros.com/que-es-regresion-logistica/\n",
    "- Y este otro: https://www.cienciadedatos.net/documentos/py17-regresion-logistica-python.html\n",
    "\n",
    "¡Vamos a ver cómo proceder en Python y las métricas que hay!"
   ]
  },
  {
   "cell_type": "markdown",
   "id": "71a7bdcb",
   "metadata": {},
   "source": [
    "Vamos a empezar con una regresión logística simple poniendo:\n",
    "- Variable de entrada = Price\n",
    "- Variable de salida = ventas_altas"
   ]
  },
  {
   "cell_type": "code",
   "execution_count": null,
   "id": "1af4c510",
   "metadata": {},
   "outputs": [],
   "source": [
    "# Regresión logística simple\n",
    "y = data['ventas_altas']\n",
    "X = data['Price']\n",
    "\n",
    "# Creación del modelo\n",
    "# ==============================================================================\n",
    "# Para no incluir ningún tipo de regularización en el modelo se indica\n",
    "# penalty='none'\n",
    "X_ = sm.add_constant(X, prepend=True)\n",
    "modelo = sm.Logit(endog=y, exog=X_)\n",
    "modelo = modelo.fit()\n",
    "modelo.summary()"
   ]
  },
  {
   "cell_type": "markdown",
   "id": "866a3759",
   "metadata": {},
   "source": [
    "¡Los coeficientes son significativos!"
   ]
  },
  {
   "cell_type": "markdown",
   "id": "5bb51616",
   "metadata": {},
   "source": [
    "Podemos predecir los resultados del modelo:"
   ]
  },
  {
   "cell_type": "code",
   "execution_count": null,
   "id": "7649021e",
   "metadata": {},
   "outputs": [],
   "source": [
    "prob_modelo = modelo.predict()"
   ]
  },
  {
   "cell_type": "code",
   "execution_count": null,
   "id": "d76fb7ac",
   "metadata": {},
   "outputs": [],
   "source": [
    "prob_modelo[:5] # las primeras 5 probabilidades"
   ]
  },
  {
   "cell_type": "markdown",
   "id": "8993bb57",
   "metadata": {},
   "source": [
    "El modelo nos da las probabilidades de estar en el grupo 1.\n",
    "En la primera tienda tiene una probabilidad de 36.5% de estar en el grupo 1. Lo más lógico aquí es clasificar la tienda en el grupo 0 ya que no pasa el umbral del 50%.\n",
    "\n",
    "Asi que para cada tienda tenemos la probabilidad de estar el grupo 1."
   ]
  },
  {
   "cell_type": "code",
   "execution_count": null,
   "id": "b6b196cd",
   "metadata": {},
   "outputs": [],
   "source": [
    "(prob_modelo>0.5)[:5]"
   ]
  },
  {
   "cell_type": "markdown",
   "id": "6aa7946b",
   "metadata": {},
   "source": [
    "Poniendo el umbral al 50% vemos que la primera tienda sería el grupo 0, la segunda, tercera y cuarta sería del grupo 1 y la quinta del grupo 0.\n"
   ]
  },
  {
   "cell_type": "code",
   "execution_count": null,
   "id": "a394c95f",
   "metadata": {},
   "outputs": [],
   "source": [
    "# Clasificación predicha\n",
    "# ==============================================================================\n",
    "clasificacion = np.where(prob_modelo<0.5, 0, 1)\n",
    "clasificacion[:5]"
   ]
  },
  {
   "cell_type": "markdown",
   "id": "3ef6d859",
   "metadata": {},
   "source": [
    "Podemos montar un data frame con las predicciones en probabilidad en grupo y los valores reales:"
   ]
  },
  {
   "cell_type": "code",
   "execution_count": null,
   "id": "1efc773f",
   "metadata": {},
   "outputs": [],
   "source": [
    "resultados_modelo = pd.DataFrame(prob_modelo)\n",
    "resultados_modelo.columns = [\"Probabilidad Predicha\"]\n",
    "resultados_modelo[\"Clasificacion Predicha\"] = clasificacion\n",
    "resultados_modelo[\"Claificacion Real\"] = y\n",
    "resultados_modelo.head(20)"
   ]
  },
  {
   "cell_type": "markdown",
   "id": "adb272ff",
   "metadata": {},
   "source": [
    "De esta manera podemos calcular el error de predicción del modelo:"
   ]
  },
  {
   "cell_type": "code",
   "execution_count": null,
   "id": "686e2c84",
   "metadata": {},
   "outputs": [],
   "source": [
    "print('Predicción de Validación:')\n",
    "y_modelo = resultados_modelo[\"Clasificacion Predicha\"]\n",
    "y_real = y\n",
    "print(accuracy_score(y_real, y_modelo))\n",
    "print(confusion_matrix(y_real, y_modelo))\n",
    "print(classification_report(y_real, y_modelo))"
   ]
  },
  {
   "cell_type": "markdown",
   "id": "cdbad5ea",
   "metadata": {},
   "source": [
    "En este caso tenemos un accuracy o acierto del 65%.\n",
    "\n",
    "Es un valor relativamente bajo ya que el azar está al 50%\n",
    "\n",
    "Lo ideal es estar a partir del 80%."
   ]
  },
  {
   "cell_type": "markdown",
   "id": "12d214a0",
   "metadata": {},
   "source": [
    "El siguiente paso natural es añadir más variables que nos ayuden a explicar el modelo y calcular una regresión logística múltiple."
   ]
  },
  {
   "cell_type": "markdown",
   "id": "7a38d9f0",
   "metadata": {},
   "source": [
    "# Ejercicios de la lección:"
   ]
  },
  {
   "cell_type": "markdown",
   "id": "ccfe8140",
   "metadata": {},
   "source": [
    "¡Vamos a practicar lo que acabamos de aprender con python!\n",
    "\n",
    "Para ello, te invito a que uses un dataset de kaggle sobre https://www.kaggle.com/fedesoriano/stroke-prediction-dataset\n",
    "\n",
    "Esta es la información del dataset:\n",
    "\n",
    "Context\n",
    "According to the World Health Organization (WHO) stroke is the 2nd leading cause of death globally, responsible for approximately 11% of total deaths.\n",
    "This dataset is used to predict whether a patient is likely to get stroke based on the input parameters like gender, age, various diseases, and smoking status. Each row in the data provides relavant information about the patient.\n",
    "\n",
    "Attribute Information\n",
    "\n",
    "    1) id: unique identifier\n",
    "    2) gender: \"Male\", \"Female\" or \"Other\"\n",
    "    3) age: age of the patient\n",
    "    4) hypertension: 0 if the patient doesn't have hypertension, 1 if the patient has hypertension\n",
    "    5) heart_disease: 0 if the patient doesn't have any heart diseases, 1 if the patient has a heart disease\n",
    "    6) ever_married: \"No\" or \"Yes\"\n",
    "    7) work_type: \"children\", \"Govt_jov\", \"Never_worked\", \"Private\" or \"Self-employed\"\n",
    "    8) Residence_type: \"Rural\" or \"Urban\"\n",
    "    9) avg_glucose_level: average glucose level in blood\n",
    "    10) bmi: body mass index\n",
    "    11) smoking_status: \"formerly smoked\", \"never smoked\", \"smokes\" or \"Unknown\"*\n",
    "    12) stroke: 1 if the patient had a stroke or 0 if not\n",
    "   \n",
    "\n",
    "*Note: \"Unknown\" in smoking_status means that the information is unavailable for this patient\n",
    "\n"
   ]
  },
  {
   "cell_type": "markdown",
   "id": "6bea37e4",
   "metadata": {},
   "source": [
    "**Los ejercicios:**\n",
    "\n",
    "Recuerda: en todos los ejercicios acompaña con gráficos las respuestas:\n",
    "\n",
    "    1- Lee la tabla de datos stroke\n",
    "    2- Compara las medias de la age con la variable stroke con el t-test y ANOVA\n",
    "    3- Compara el avg_glucose_level en función de smoking_status\n",
    "    4- Relaciona la av_glucose_level con la age\n",
    "    5- Compara las proporciones de hypertension con stroke\n",
    "    6- Calcula un modelo regresión con la variable avg_glucose_level como salida y poniendo la variable age como entrada\n",
    "    7- Calcula un modelo de clasificación logístico con la variable de salida stroke en función de aquellas que consideres de entrada que puedan afectar\n",
    "    "
   ]
  }
 ],
 "metadata": {
  "kernelspec": {
   "display_name": "Python 3 (ipykernel)",
   "language": "python",
   "name": "python3"
  },
  "language_info": {
   "codemirror_mode": {
    "name": "ipython",
    "version": 3
   },
   "file_extension": ".py",
   "mimetype": "text/x-python",
   "name": "python",
   "nbconvert_exporter": "python",
   "pygments_lexer": "ipython3",
   "version": "3.9.12"
  },
  "toc": {
   "base_numbering": 1,
   "nav_menu": {},
   "number_sections": true,
   "sideBar": true,
   "skip_h1_title": false,
   "title_cell": "Table of Contents",
   "title_sidebar": "Contents",
   "toc_cell": false,
   "toc_position": {
    "height": "calc(100% - 180px)",
    "left": "10px",
    "top": "150px",
    "width": "307.2px"
   },
   "toc_section_display": true,
   "toc_window_display": true
  }
 },
 "nbformat": 4,
 "nbformat_minor": 5
}
