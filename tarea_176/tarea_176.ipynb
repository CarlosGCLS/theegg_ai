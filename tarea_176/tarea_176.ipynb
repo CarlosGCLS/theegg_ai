{
 "cells": [
  {
   "cell_type": "markdown",
   "id": "e12f6a0c",
   "metadata": {},
   "source": [
    "# Programa que indique el mayor de tres numeros"
   ]
  },
  {
   "cell_type": "code",
   "execution_count": 1,
   "id": "da8dedc2",
   "metadata": {},
   "outputs": [
    {
     "name": "stdout",
     "output_type": "stream",
     "text": [
      "el mayor es a\n"
     ]
    }
   ],
   "source": [
    "#programa que indique el mayor de tres numeros\n",
    "a=400\n",
    "b=45\n",
    "c=40 \n",
    "\n",
    "if a > b and a > c:\n",
    "    print('el mayor es a')\n",
    "elif b>c and b>a:\n",
    "    print ('el mayor es b')\n",
    "elif c>a and c>b:\n",
    "    print('el mayor es c')\n",
    "\n",
    "else:\n",
    "    print (\"son iguales\")\n",
    "\n"
   ]
  },
  {
   "cell_type": "markdown",
   "id": "4e7f9126",
   "metadata": {},
   "source": [
    "# Programa que indique la longitud de una frase"
   ]
  },
  {
   "cell_type": "code",
   "execution_count": 2,
   "id": "f4d27f04",
   "metadata": {},
   "outputs": [
    {
     "name": "stdout",
     "output_type": "stream",
     "text": [
      "Número de caracteres = 31\n"
     ]
    }
   ],
   "source": [
    "#programa que indique la longitud de una frase\n",
    "\n",
    "Frase = \"Ejercicio Python segunda sesion\"\n",
    "nCaracteres = 0\n",
    "\n",
    "for n in Frase:\n",
    "    nCaracteres +=1\n",
    "    \n",
    "print (\"Número de caracteres =\", nCaracteres)\n",
    "\n"
   ]
  },
  {
   "cell_type": "markdown",
   "id": "7e15800b",
   "metadata": {},
   "source": [
    "# Determinar si un caracter es vocal"
   ]
  },
  {
   "cell_type": "code",
   "execution_count": 3,
   "id": "f1e5f30e",
   "metadata": {},
   "outputs": [
    {
     "name": "stdout",
     "output_type": "stream",
     "text": [
      "False\n"
     ]
    }
   ],
   "source": [
    "#Determinar si un caracter es vocal\n",
    "\n",
    "Caracter = \"r\"\n",
    "\n",
    "if Caracter == \"a\" or Caracter == \"e\" or Caracter == \"i\" or Caracter == \"o\"or Caracter == \"u\" :\n",
    "    Vocal = True\n",
    "else:\n",
    "    Vocal = False    \n",
    "    \n",
    "    \n",
    "print (Vocal)\n",
    "    \n",
    "    "
   ]
  },
  {
   "cell_type": "code",
   "execution_count": 4,
   "id": "37ff5fa5",
   "metadata": {},
   "outputs": [
    {
     "name": "stdout",
     "output_type": "stream",
     "text": [
      "383\n"
     ]
    }
   ],
   "source": [
    "#sumar los valores de una lista\n",
    "\n",
    "Lista = {1,5,89,35,54,97,1,102}\n",
    "Suma = 0\n",
    "for Num in Lista:\n",
    "    Suma += Num\n",
    "    \n",
    "print (Suma)\n",
    "    \n"
   ]
  },
  {
   "cell_type": "markdown",
   "id": "0606f739",
   "metadata": {},
   "source": [
    "# Comparar dos listas y encontrar valores coincidentes"
   ]
  },
  {
   "cell_type": "code",
   "execution_count": 5,
   "id": "ce173ede",
   "metadata": {},
   "outputs": [
    {
     "name": "stdout",
     "output_type": "stream",
     "text": [
      "El valor 1 coincide\n",
      "El valor 3 coincide\n",
      "El valor 3 coincide\n",
      "El valor 5 coincide\n",
      "El valor 5 coincide\n",
      "El valor 9 coincide\n",
      "El valor 5 coincide\n",
      "El valor 5 coincide\n",
      "El valor 3 coincide\n",
      "El valor 3 coincide\n",
      "El valor 9 coincide\n",
      "El valor 5 coincide\n",
      "El valor 5 coincide\n",
      "El valor 1 coincide\n",
      "El valor 8 coincide\n",
      "El valor 8 coincide\n",
      "El valor 2 coincide\n",
      "El valor 2 coincide\n",
      "El valor 6 coincide\n",
      "El valor 6 coincide\n",
      "lista coincidentes [1, 1, 2, 2, 3, 3, 3, 3, 5, 5, 5, 5, 5, 5, 6, 6, 8, 8, 9, 9]\n",
      "Lista valores únicos [1, 2, 3, 5, 6, 8, 9]\n"
     ]
    }
   ],
   "source": [
    "#Comparar dos listas y encontrar valores coincidentes\n",
    "\n",
    "Lista1= [1,3,5,9,7,5,3,9,5,1,8,2,6]\n",
    "Lista2= [2,6,5,8,2,4,6,9,8,5,3,1,3]\n",
    "\n",
    "ListaCoincidentes = []\n",
    "ListaUnica = []\n",
    "\n",
    "for i in Lista1:\n",
    "    for j in Lista2:\n",
    "        if i == j:            \n",
    "            print ('El valor', j, 'coincide')\n",
    "            ListaCoincidentes += [i]\n",
    "            if i not in ListaUnica:\n",
    "                ListaUnica.append (i)\n",
    "            \n",
    "ListaCoincidentes.sort()\n",
    "print ('lista coincidentes',ListaCoincidentes)\n",
    "\n",
    "ListaUnica.sort()\n",
    "print ('Lista valores únicos', ListaUnica)\n",
    "            \n",
    "\n",
    "\n",
    "    "
   ]
  },
  {
   "cell_type": "markdown",
   "id": "2bcdc4b0",
   "metadata": {},
   "source": [
    "# Función que invierta el orden de una frase"
   ]
  },
  {
   "cell_type": "code",
   "execution_count": 6,
   "id": "8fbaca13",
   "metadata": {
    "scrolled": true
   },
   "outputs": [
    {
     "name": "stdout",
     "output_type": "stream",
     "text": [
      "37\n"
     ]
    },
    {
     "ename": "TypeError",
     "evalue": "unhashable type: 'slice'",
     "output_type": "error",
     "traceback": [
      "\u001b[1;31m---------------------------------------------------------------------------\u001b[0m",
      "\u001b[1;31mTypeError\u001b[0m                                 Traceback (most recent call last)",
      "Input \u001b[1;32mIn [6]\u001b[0m, in \u001b[0;36m<cell line: 8>\u001b[1;34m()\u001b[0m\n\u001b[0;32m      9\u001b[0m     a\u001b[38;5;241m=\u001b[39m Long\u001b[38;5;241m-\u001b[39mCont\n\u001b[0;32m     10\u001b[0m     \u001b[38;5;28mprint\u001b[39m (a)\n\u001b[1;32m---> 11\u001b[0m     FraseInv [a:\u001b[38;5;241m1\u001b[39m] \u001b[38;5;241m=\u001b[39m i\n\u001b[0;32m     12\u001b[0m     Cont \u001b[38;5;241m+\u001b[39m\u001b[38;5;241m=\u001b[39m\u001b[38;5;241m1\u001b[39m\n\u001b[0;32m     14\u001b[0m \u001b[38;5;28mprint\u001b[39m (FraseInv)\n",
      "\u001b[1;31mTypeError\u001b[0m: unhashable type: 'slice'"
     ]
    }
   ],
   "source": [
    "Frase = \"Esta es la frase que hay que invertir\"\n",
    "\n",
    "FraseInv = {}\n",
    "\n",
    "Long = len(Frase)\n",
    "Cont = 0\n",
    "\n",
    "for i in Frase:\n",
    "    a= Long-Cont\n",
    "    print (a)\n",
    "    FraseInv [a:1] = i\n",
    "    Cont +=1\n",
    "    \n",
    "print (FraseInv)\n",
    "\n",
    "#print (Long)\n"
   ]
  },
  {
   "cell_type": "code",
   "execution_count": null,
   "id": "b067d76a",
   "metadata": {},
   "outputs": [],
   "source": [
    "Frase = \"Esta es la frase que hay que invertir\"\n",
    "\n",
    "print (Frase[-1:-1:-1])"
   ]
  },
  {
   "cell_type": "code",
   "execution_count": null,
   "id": "01b4dbdd",
   "metadata": {},
   "outputs": [],
   "source": [
    "def InvierteFrase (Frase):\n",
    "    print (Frase[::-1])\n",
    "    \n",
    "    \n",
    "    "
   ]
  },
  {
   "cell_type": "code",
   "execution_count": null,
   "id": "78e15d73",
   "metadata": {},
   "outputs": [],
   "source": [
    "InvierteFrase (\"Prueba dfe inversión\")\n",
    "\n"
   ]
  },
  {
   "cell_type": "code",
   "execution_count": null,
   "id": "b89dd79c",
   "metadata": {},
   "outputs": [],
   "source": [
    "def EncuentraPalidromo (Frase):\n",
    "    if Frase[::-1] == Frase[::1]:\n",
    "        Pal = True\n",
    "    else:\n",
    "        Pal = False\n",
    "    \n",
    "    return (Pal)\n",
    "    "
   ]
  },
  {
   "cell_type": "code",
   "execution_count": null,
   "id": "e8f637e1",
   "metadata": {},
   "outputs": [],
   "source": [
    "#EncuentraPalidromo (\"DABALEARROZALAZORRAELABAD\")\n",
    "EncuentraPalidromo (\"YODONOROSASORONODOY\")"
   ]
  },
  {
   "cell_type": "code",
   "execution_count": null,
   "id": "4bb4c859",
   "metadata": {},
   "outputs": [],
   "source": [
    "def RepiteLetra (Letra, Num):\n",
    "    Cont = range(Num)\n",
    "    Cadena = []\n",
    "    for n in Cont:\n",
    "        #Cadena += Letra\n",
    "        Cadena.append (Letra)\n",
    "        #Cadena = [\"PruebaCadena\"]\n",
    "    return Cadena \n",
    "    "
   ]
  },
  {
   "cell_type": "code",
   "execution_count": null,
   "id": "fa97bfe4",
   "metadata": {},
   "outputs": [],
   "source": [
    "print (RepiteLetra (\"a\",5))\n"
   ]
  },
  {
   "cell_type": "code",
   "execution_count": null,
   "id": "e1ba8df6",
   "metadata": {},
   "outputs": [],
   "source": [
    "def Histograma (Lista):\n",
    "    N_0 = 0\n",
    "    N_1 = 0\n",
    "    N_2 = 0\n",
    "    N_3 = 0\n",
    "    N_4 = 0\n",
    "    N_5 = 0\n",
    "    N_6 = 0\n",
    "    N_7 = 0\n",
    "    N_8 = 0\n",
    "    N_9 = 0\n",
    "    \n",
    "    for Num in Lista:\n",
    "        if Num == 0:\n",
    "            N_0 +=1\n",
    "        elif Num == 1:\n",
    "            N_1 +=1\n",
    "        elif Num == 2:\n",
    "            N_2 +=1\n",
    "        elif Num == 3:\n",
    "            N_3 +=1\n",
    "        elif Num == 4:\n",
    "            N_4 +=1\n",
    "        elif Num == 5:\n",
    "            N_5 +=1\n",
    "        elif Num == 6:\n",
    "            N_6 +=1\n",
    "        elif Num == 7:\n",
    "            N_7 +=1\n",
    "        elif Num == 8:\n",
    "            N_8 +=1\n",
    "        elif Num == 9:\n",
    "            N_9 +=1         \n",
    "\n",
    "    \n",
    "    print(\"0\",RepiteLetra (\"*\", N_0))\n",
    "    print(\"1\",RepiteLetra (\"*\", N_1))\n",
    "    print(\"2\",RepiteLetra (\"*\", N_2))\n",
    "    print(\"3\",RepiteLetra (\"*\", N_3))\n",
    "    print(\"4\",RepiteLetra (\"*\", N_4))\n",
    "    print(\"5\",RepiteLetra (\"*\", N_5))\n",
    "    print(\"6\",RepiteLetra (\"*\", N_6))\n",
    "    print(\"7\",RepiteLetra (\"*\", N_7))\n",
    "    print(\"8\",RepiteLetra (\"*\", N_8))\n",
    "    print(\"9\",RepiteLetra (\"*\", N_9))\n",
    "\n",
    "    print(\"\")\n",
    "    print (\"*\" * N_0)\n",
    "    print (\"*\" * N_1)\n",
    "    print (\"*\" * N_2)    \n",
    "    print (\"*\" * N_3)\n",
    "    print (\"*\" * N_4)\n",
    "    print (\"*\" * N_5)\n",
    "    print (\"*\" * N_6)\n",
    "    print (\"*\" * N_7)\n",
    "    print (\"*\" * N_8)\n",
    "    print (\"*\" * N_9)\n",
    "    \n",
    "    "
   ]
  },
  {
   "cell_type": "code",
   "execution_count": null,
   "id": "c92a7e0c",
   "metadata": {
    "scrolled": true
   },
   "outputs": [],
   "source": [
    "Lista = [1,1,2,2,3,4,5,6,7,8,7,6,4,4,4,4,3,3,5,6,7,9,0,9]\n",
    "\n",
    "Histograma (Lista)"
   ]
  },
  {
   "cell_type": "code",
   "execution_count": null,
   "id": "ca425d64",
   "metadata": {},
   "outputs": [],
   "source": [
    "def EsMultiplo (a,b):\n",
    "    if a%b == 0:\n",
    "        return True\n",
    "    else:\n",
    "        return False\n",
    "    \n",
    "    \n",
    "    "
   ]
  },
  {
   "cell_type": "code",
   "execution_count": null,
   "id": "0af8eaac",
   "metadata": {},
   "outputs": [],
   "source": [
    "EsMultiplo (15,3)"
   ]
  },
  {
   "cell_type": "code",
   "execution_count": null,
   "id": "d6140950",
   "metadata": {},
   "outputs": [],
   "source": [
    "def Circunferencia (Radio):\n",
    "    pi = 3.1415\n",
    "    \n",
    "    Area = pi * Radio * Radio\n",
    "    Perimetro = 2 * pi * Radio\n",
    "    \n",
    "    return Area, Perimetro  \n",
    "    \n",
    "    \n",
    "    "
   ]
  },
  {
   "cell_type": "code",
   "execution_count": null,
   "id": "9a2a46a2",
   "metadata": {},
   "outputs": [],
   "source": [
    "Circunferencia (4)"
   ]
  },
  {
   "cell_type": "markdown",
   "id": "846492b1",
   "metadata": {},
   "source": [
    "# Función factorización"
   ]
  },
  {
   "cell_type": "code",
   "execution_count": 10,
   "id": "16c2043d",
   "metadata": {},
   "outputs": [],
   "source": [
    "def Factoriza (nEntrada):\n",
    "    nPrimos = [2, 3, 5, 7, 11, 13, 17, 19, 23, 29, 31, 37, 41, 43, 47, 53, 59, 61, 67, 71, 73, 79, 83, 89, 97]\n",
    "    ContFactores = 0\n",
    "    Dvdo = nEntrada\n",
    "    Factores = dict()\n",
    "    \n",
    "      \n",
    "    while True:\n",
    "        for n in nPrimos:\n",
    "            if Dvdo % n == 0:\n",
    "                #print (Dvdo, \"\\t\"  ,n)\n",
    "                Dvdo /= n\n",
    "                if n not in Factores:\n",
    "                    Factores[n]=1                    \n",
    "                else:\n",
    "                    Factores[n] += 1                      \n",
    "                \n",
    "                ContFactores +=1               \n",
    "            if Dvdo == 1:                \n",
    "                #print (\"1\")\n",
    "                break\n",
    "                \n",
    "        if Dvdo == 1:\n",
    "            break             \n",
    "                \n",
    "                \n",
    "    return (Factores)"
   ]
  },
  {
   "cell_type": "markdown",
   "id": "1c44db98",
   "metadata": {},
   "source": [
    "# Mínimo Común Múltiplo"
   ]
  },
  {
   "cell_type": "code",
   "execution_count": 8,
   "id": "a8947f96",
   "metadata": {},
   "outputs": [],
   "source": [
    "def mcm (n1, n2):\n",
    "    MayorExp = dict ()\n",
    "    mcm = 1\n",
    "    \n",
    "    if  n1>100 or n2> 100:        \n",
    "        print (\"ERROR: Máximo 100\")\n",
    "        return (-1)\n",
    "            \n",
    "    f1 = Factoriza (n1)\n",
    "    f2 = Factoriza (n2)\n",
    "    \n",
    "    for n in f1:\n",
    "        if n not in MayorExp:\n",
    "            MayorExp[n] = f1 [n]\n",
    "        elif f1 [n] > MayorExp[n]:\n",
    "            MayorExp[n] = f1 [n]            \n",
    "        \n",
    "    for n in f2:\n",
    "        if n not in MayorExp:\n",
    "            MayorExp[n] = f2 [n]\n",
    "        elif f2 [n] > MayorExp[n]:\n",
    "            MayorExp[n] = f2 [n]                  \n",
    "    \n",
    "    for i in MayorExp:\n",
    "        mcm *= (i** MayorExp[i])\n",
    "    \n",
    "    print (\"F1: \",f1,\"F2: \", f2)\n",
    "    print (MayorExp)\n",
    "    print (\"M.C.M. =\", mcm)\n",
    "    \n",
    "    \n"
   ]
  },
  {
   "cell_type": "code",
   "execution_count": 11,
   "id": "6d55e4a8",
   "metadata": {},
   "outputs": [
    {
     "name": "stdout",
     "output_type": "stream",
     "text": [
      "F1:  {2: 3, 3: 2} F2:  {2: 1, 5: 2}\n",
      "{2: 3, 3: 2, 5: 2}\n",
      "M.C.M. = 1800\n"
     ]
    }
   ],
   "source": [
    "mcm (72,50)"
   ]
  },
  {
   "cell_type": "code",
   "execution_count": null,
   "id": "9d024d1d",
   "metadata": {},
   "outputs": [],
   "source": []
  },
  {
   "cell_type": "raw",
   "id": "f5e68daa",
   "metadata": {},
   "source": []
  },
  {
   "cell_type": "code",
   "execution_count": null,
   "id": "5e2b1b9d",
   "metadata": {},
   "outputs": [],
   "source": []
  }
 ],
 "metadata": {
  "kernelspec": {
   "display_name": "Python 3 (ipykernel)",
   "language": "python",
   "name": "python3"
  },
  "language_info": {
   "codemirror_mode": {
    "name": "ipython",
    "version": 3
   },
   "file_extension": ".py",
   "mimetype": "text/x-python",
   "name": "python",
   "nbconvert_exporter": "python",
   "pygments_lexer": "ipython3",
   "version": "3.9.12"
  }
 },
 "nbformat": 4,
 "nbformat_minor": 5
}
