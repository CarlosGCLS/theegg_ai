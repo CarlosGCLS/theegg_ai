{
 "cells": [
  {
   "cell_type": "markdown",
   "id": "0dabdd4c",
   "metadata": {},
   "source": [
    "# The Egg Escuela de Inteligencia Artificial\n",
    "## Módulo \"El Dato\"\n",
    "\n",
    "## Librerías para estadística con datos"
   ]
  },
  {
   "cell_type": "markdown",
   "id": "d6b9bf16",
   "metadata": {},
   "source": [
    "Top Canciones de Spotify del año 2017\n",
    "¡Hola egger! Al final de cada año, Spotify crea una playlist con las canciones que más veces han sido reproducidas a lo largo del año. At the end of each year, Spotify compiles a playlist of the songs streamed most often over the course of that year. En este ejemplo se muestran las canciones más escuchadas del año 2017. La pregunta es: ¿Qué tienen en común estas canciones? ¿Por qué les gusta a la gente? \n",
    "\n",
    "Fuente original de datos:\n",
    "Las características de los audios de las canciones se han extraído utilizando la API de la Web de Spotify y la librería spotipy de Python. The audio features for each song were extracted using the Spotify Web API and the spotipy Python library. Todo el crédito para Spotify por calcular estos valores. \n",
    "\n",
    "Descripción de los datos:\n",
    "Los datos se encuentran en un fichero .csv de nombre \"featuresdf.csv\". Este fichero incluye:\n",
    "\n",
    "El URI de la canción en Spotify (El URI es el identificador uniforme de recursos y sirve para acceder a un recurso físico o abstracto por Internet)\n",
    "Nombre de la canción\n",
    "Artista/s\n",
    "Características de la canción (lo bailable que es, tempo, clave etc.)\n",
    "\n",
    "Fuente: https://www.kaggle.com/datasets/nadintamer/top-tracks-of-2017?resource=download"
   ]
  },
  {
   "cell_type": "markdown",
   "id": "36bde05c",
   "metadata": {},
   "source": [
    "## 1. Análisis exploratorio de los datos (EDA)"
   ]
  },
  {
   "cell_type": "code",
   "execution_count": 1,
   "id": "03a86e1c",
   "metadata": {},
   "outputs": [],
   "source": [
    "import pandas as pd # Importamos librería pandas con el acrónimo pd\n",
    "pd.set_option('display.max.columns',100) # Para que al mostrar el dataframe, salgan todas las features"
   ]
  },
  {
   "cell_type": "code",
   "execution_count": 2,
   "id": "ce4aabfe",
   "metadata": {},
   "outputs": [],
   "source": [
    "df = pd.DataFrame(pd.read_csv('featuresdf.csv')) # Guardamos los datos en un dataframe"
   ]
  },
  {
   "cell_type": "code",
   "execution_count": 3,
   "id": "568132d5",
   "metadata": {},
   "outputs": [
    {
     "data": {
      "text/plain": [
       "id                   object\n",
       "name                 object\n",
       "artists              object\n",
       "danceability        float64\n",
       "energy              float64\n",
       "key                 float64\n",
       "loudness            float64\n",
       "mode                float64\n",
       "speechiness         float64\n",
       "acousticness        float64\n",
       "instrumentalness    float64\n",
       "liveness            float64\n",
       "valence             float64\n",
       "tempo               float64\n",
       "duration_ms         float64\n",
       "time_signature      float64\n",
       "dtype: object"
      ]
     },
     "execution_count": 3,
     "metadata": {},
     "output_type": "execute_result"
    }
   ],
   "source": [
    "df.dtypes # Comprobamos qué tipo de datos tenemos"
   ]
  },
  {
   "cell_type": "code",
   "execution_count": 4,
   "id": "084fcb03",
   "metadata": {},
   "outputs": [
    {
     "data": {
      "text/html": [
       "<div>\n",
       "<style scoped>\n",
       "    .dataframe tbody tr th:only-of-type {\n",
       "        vertical-align: middle;\n",
       "    }\n",
       "\n",
       "    .dataframe tbody tr th {\n",
       "        vertical-align: top;\n",
       "    }\n",
       "\n",
       "    .dataframe thead th {\n",
       "        text-align: right;\n",
       "    }\n",
       "</style>\n",
       "<table border=\"1\" class=\"dataframe\">\n",
       "  <thead>\n",
       "    <tr style=\"text-align: right;\">\n",
       "      <th></th>\n",
       "      <th>id</th>\n",
       "      <th>name</th>\n",
       "      <th>artists</th>\n",
       "      <th>danceability</th>\n",
       "      <th>energy</th>\n",
       "      <th>key</th>\n",
       "      <th>loudness</th>\n",
       "      <th>mode</th>\n",
       "      <th>speechiness</th>\n",
       "      <th>acousticness</th>\n",
       "      <th>instrumentalness</th>\n",
       "      <th>liveness</th>\n",
       "      <th>valence</th>\n",
       "      <th>tempo</th>\n",
       "      <th>duration_ms</th>\n",
       "      <th>time_signature</th>\n",
       "    </tr>\n",
       "  </thead>\n",
       "  <tbody>\n",
       "    <tr>\n",
       "      <th>0</th>\n",
       "      <td>7qiZfU4dY1lWllzX7mPBI</td>\n",
       "      <td>Shape of You</td>\n",
       "      <td>Ed Sheeran</td>\n",
       "      <td>0.825</td>\n",
       "      <td>0.652</td>\n",
       "      <td>1.0</td>\n",
       "      <td>-3.183</td>\n",
       "      <td>0.0</td>\n",
       "      <td>0.0802</td>\n",
       "      <td>0.5810</td>\n",
       "      <td>0.000000</td>\n",
       "      <td>0.0931</td>\n",
       "      <td>0.931</td>\n",
       "      <td>95.977</td>\n",
       "      <td>233713.0</td>\n",
       "      <td>4.0</td>\n",
       "    </tr>\n",
       "    <tr>\n",
       "      <th>1</th>\n",
       "      <td>5CtI0qwDJkDQGwXD1H1cL</td>\n",
       "      <td>Despacito - Remix</td>\n",
       "      <td>Luis Fonsi</td>\n",
       "      <td>0.694</td>\n",
       "      <td>0.815</td>\n",
       "      <td>2.0</td>\n",
       "      <td>-4.328</td>\n",
       "      <td>1.0</td>\n",
       "      <td>0.1200</td>\n",
       "      <td>0.2290</td>\n",
       "      <td>0.000000</td>\n",
       "      <td>0.0924</td>\n",
       "      <td>0.813</td>\n",
       "      <td>88.931</td>\n",
       "      <td>228827.0</td>\n",
       "      <td>4.0</td>\n",
       "    </tr>\n",
       "    <tr>\n",
       "      <th>2</th>\n",
       "      <td>4aWmUDTfIPGksMNLV2rQP</td>\n",
       "      <td>Despacito (Featuring Daddy Yankee)</td>\n",
       "      <td>Luis Fonsi</td>\n",
       "      <td>0.660</td>\n",
       "      <td>0.786</td>\n",
       "      <td>2.0</td>\n",
       "      <td>-4.757</td>\n",
       "      <td>1.0</td>\n",
       "      <td>0.1700</td>\n",
       "      <td>0.2090</td>\n",
       "      <td>0.000000</td>\n",
       "      <td>0.1120</td>\n",
       "      <td>0.846</td>\n",
       "      <td>177.833</td>\n",
       "      <td>228200.0</td>\n",
       "      <td>4.0</td>\n",
       "    </tr>\n",
       "    <tr>\n",
       "      <th>3</th>\n",
       "      <td>6RUKPb4LETWmmr3iAEQkt</td>\n",
       "      <td>Something Just Like This</td>\n",
       "      <td>The Chainsmokers</td>\n",
       "      <td>0.617</td>\n",
       "      <td>0.635</td>\n",
       "      <td>11.0</td>\n",
       "      <td>-6.769</td>\n",
       "      <td>0.0</td>\n",
       "      <td>0.0317</td>\n",
       "      <td>0.0498</td>\n",
       "      <td>0.000014</td>\n",
       "      <td>0.1640</td>\n",
       "      <td>0.446</td>\n",
       "      <td>103.019</td>\n",
       "      <td>247160.0</td>\n",
       "      <td>4.0</td>\n",
       "    </tr>\n",
       "    <tr>\n",
       "      <th>4</th>\n",
       "      <td>3DXncPQOG4VBw3QHh3S81</td>\n",
       "      <td>I'm the One</td>\n",
       "      <td>DJ Khaled</td>\n",
       "      <td>0.609</td>\n",
       "      <td>0.668</td>\n",
       "      <td>7.0</td>\n",
       "      <td>-4.284</td>\n",
       "      <td>1.0</td>\n",
       "      <td>0.0367</td>\n",
       "      <td>0.0552</td>\n",
       "      <td>0.000000</td>\n",
       "      <td>0.1670</td>\n",
       "      <td>0.811</td>\n",
       "      <td>80.924</td>\n",
       "      <td>288600.0</td>\n",
       "      <td>4.0</td>\n",
       "    </tr>\n",
       "  </tbody>\n",
       "</table>\n",
       "</div>"
      ],
      "text/plain": [
       "                      id                                name  \\\n",
       "0  7qiZfU4dY1lWllzX7mPBI                        Shape of You   \n",
       "1  5CtI0qwDJkDQGwXD1H1cL                   Despacito - Remix   \n",
       "2  4aWmUDTfIPGksMNLV2rQP  Despacito (Featuring Daddy Yankee)   \n",
       "3  6RUKPb4LETWmmr3iAEQkt            Something Just Like This   \n",
       "4  3DXncPQOG4VBw3QHh3S81                         I'm the One   \n",
       "\n",
       "            artists  danceability  energy   key  loudness  mode  speechiness  \\\n",
       "0        Ed Sheeran         0.825   0.652   1.0    -3.183   0.0       0.0802   \n",
       "1        Luis Fonsi         0.694   0.815   2.0    -4.328   1.0       0.1200   \n",
       "2        Luis Fonsi         0.660   0.786   2.0    -4.757   1.0       0.1700   \n",
       "3  The Chainsmokers         0.617   0.635  11.0    -6.769   0.0       0.0317   \n",
       "4         DJ Khaled         0.609   0.668   7.0    -4.284   1.0       0.0367   \n",
       "\n",
       "   acousticness  instrumentalness  liveness  valence    tempo  duration_ms  \\\n",
       "0        0.5810          0.000000    0.0931    0.931   95.977     233713.0   \n",
       "1        0.2290          0.000000    0.0924    0.813   88.931     228827.0   \n",
       "2        0.2090          0.000000    0.1120    0.846  177.833     228200.0   \n",
       "3        0.0498          0.000014    0.1640    0.446  103.019     247160.0   \n",
       "4        0.0552          0.000000    0.1670    0.811   80.924     288600.0   \n",
       "\n",
       "   time_signature  \n",
       "0             4.0  \n",
       "1             4.0  \n",
       "2             4.0  \n",
       "3             4.0  \n",
       "4             4.0  "
      ]
     },
     "execution_count": 4,
     "metadata": {},
     "output_type": "execute_result"
    }
   ],
   "source": [
    "df.head() # Inspeccionamos el dataframe"
   ]
  },
  {
   "cell_type": "markdown",
   "id": "63af24aa",
   "metadata": {},
   "source": [
    "## 2. Matplotlib\n",
    "\n"
   ]
  },
  {
   "cell_type": "code",
   "execution_count": 5,
   "id": "7f38451d",
   "metadata": {},
   "outputs": [],
   "source": [
    "import matplotlib.pyplot as plt # Importamos la librería matplotlib. \n",
    "# El inline es para que se muestren los gráficos en un jupyter notebook\n",
    "%matplotlib inline "
   ]
  },
  {
   "cell_type": "code",
   "execution_count": 11,
   "id": "fd3b63aa",
   "metadata": {},
   "outputs": [
    {
     "data": {
      "image/png": "[encoded data removed]",
      "text/plain": [
       "<Figure size 432x288 with 1 Axes>"
      ]
     },
     "metadata": {
      "needs_background": "light"
     },
     "output_type": "display_data"
    }
   ],
   "source": [
    "# Creamos la figura\n",
    "f, ax = plt.subplots(1,1)\n",
    "# Dibujamos el histograma de las features \"danceability\" y \"energy\"\n",
    "plt.hist(df['danceability'], bins=10, alpha=0.5, color='purple', label='Danceability')\n",
    "plt.hist(df['energy'], bins=10, alpha = 0.5, color='blue', label='Energy')\n",
    "# Creamos la leyenda\n",
    "plt.legend(loc='upper left')\n",
    "# Definimos el título y los ejes\n",
    "ax.set_title('Histograma de Danceability', fontsize=20)\n",
    "ax.set_xlabel('Danceability')\n",
    "ax.set_ylabel('Frecuencia')\n",
    "# Definimos los rangos del eje x,y\n",
    "plt.xlim(0,1)\n",
    "plt.ylim(0, 30)\n",
    "\n",
    "plt.show()\n"
   ]
  },
  {
   "cell_type": "markdown",
   "id": "0509bf09",
   "metadata": {},
   "source": [
    "## 2. Seaborn"
   ]
  },
  {
   "cell_type": "code",
   "execution_count": 12,
   "id": "698118c0",
   "metadata": {},
   "outputs": [],
   "source": [
    "import matplotlib.pyplot as plt # Importamos la librería Matplotlib. \n",
    "# El inline es para que se muestren los gráficos en un jupyter notebook\n",
    "%matplotlib inline "
   ]
  },
  {
   "cell_type": "code",
   "execution_count": 13,
   "id": "84f6420a",
   "metadata": {},
   "outputs": [],
   "source": [
    "import seaborn as sns # Importamos la librería Seaborn\n",
    "sns.set(style='darkgrid') # Especificamos un fondo gris de rejilla"
   ]
  },
  {
   "cell_type": "code",
   "execution_count": 20,
   "id": "8b6409e4",
   "metadata": {},
   "outputs": [
    {
     "data": {
      "image/png": "[encoded data removed]",
      "text/plain": [
       "<Figure size 432x288 with 1 Axes>"
      ]
     },
     "metadata": {},
     "output_type": "display_data"
    }
   ],
   "source": [
    "# Creamos la fugira\n",
    "f, ax = plt.subplots(1,1)\n",
    "# Dibujamos histograma de las features \"danceability\" y \"energy\"\n",
    "plt.hist(df['danceability'], bins=10, alpha=0.5, color='purple', label='Danceability')\n",
    "plt.hist(df['energy'], bins=10, alpha = 0.5, color='blue', label='Energy')\n",
    "# Creamos la leyenda\n",
    "plt.legend(loc='upper left')\n",
    "# Definimos el título y los ejes\n",
    "ax.set_title('Histograma de Danceability', fontsize=20)\n",
    "ax.set_xlabel('Danceability')\n",
    "ax.set_ylabel('Frecuencia')\n",
    "# Definimos los rangos del eje x,y\n",
    "plt.xlim(0,1)\n",
    "plt.ylim(0, 30)\n",
    "\n",
    "plt.show()"
   ]
  },
  {
   "cell_type": "code",
   "execution_count": 21,
   "id": "c866be59",
   "metadata": {},
   "outputs": [
    {
     "name": "stderr",
     "output_type": "stream",
     "text": [
      "C:\\ProgramData\\Anaconda3\\lib\\site-packages\\seaborn\\distributions.py:2619: FutureWarning: `distplot` is a deprecated function and will be removed in a future version. Please adapt your code to use either `displot` (a figure-level function with similar flexibility) or `histplot` (an axes-level function for histograms).\n",
      "  warnings.warn(msg, FutureWarning)\n",
      "C:\\ProgramData\\Anaconda3\\lib\\site-packages\\seaborn\\distributions.py:2619: FutureWarning: `distplot` is a deprecated function and will be removed in a future version. Please adapt your code to use either `displot` (a figure-level function with similar flexibility) or `histplot` (an axes-level function for histograms).\n",
      "  warnings.warn(msg, FutureWarning)\n"
     ]
    },
    {
     "data": {
      "text/plain": [
       "<matplotlib.legend.Legend at 0x1d420d91b80>"
      ]
     },
     "execution_count": 21,
     "metadata": {},
     "output_type": "execute_result"
    },
    {
     "data": {
      "image/png": "[encoded data removed]",
      "text/plain": [
       "<Figure size 432x288 with 1 Axes>"
      ]
     },
     "metadata": {},
     "output_type": "display_data"
    }
   ],
   "source": [
    "# Esta gráfica es igual a la anterior con la diferencia que añadimos \n",
    "# la función distplot de Seaborn para ver la distribución de los datos de forma continua.\n",
    "f, ax = plt.subplots(1,1)\n",
    "\n",
    "sns.distplot(df['danceability'], bins=10, label='Danceability', color='purple')\n",
    "sns.distplot(df['energy'], bins=10, label='Energy', color='blue')\n",
    "\n",
    "ax.set_title('Danceability & Energy Histogram', fontsize=20)\n",
    "ax.set(xlabel='Rating', ylabel='Frequency')\n",
    "ax.set_xlim([0, 1])\n",
    "ax.legend()"
   ]
  },
  {
   "cell_type": "code",
   "execution_count": 25,
   "id": "66c33757",
   "metadata": {},
   "outputs": [
    {
     "data": {
      "image/png": "[encoded data removed]",
      "text/plain": [
       "<Figure size 432x288 with 1 Axes>"
      ]
     },
     "metadata": {},
     "output_type": "display_data"
    }
   ],
   "source": [
    "# Por último, seguimos poniendo más bonita nuestra gráfica. Esta vez, utilizamos el parámetro alpha para dar\n",
    "# un poco de transparencia a las barras.\n",
    "\n",
    "f, ax = plt.subplots(1,1)\n",
    "\n",
    "plt.hist([df['danceability'], df['energy']], bins=10, alpha=0.5, color=['red', 'blue'], label = ['Danceability', 'Energy'])\n",
    "\n",
    "plt.legend(loc='upper right')\n",
    "\n",
    "ax.set_title('Danceability & Energy Histogram', fontsize=20)\n",
    "ax.set_xlabel('Rating')\n",
    "ax.set_ylabel('Frequency')\n",
    "\n",
    "plt.xlim(0,1)\n",
    "plt.ylim(0, 30)\n",
    "plt.show()"
   ]
  },
  {
   "cell_type": "code",
   "execution_count": null,
   "id": "84566083",
   "metadata": {},
   "outputs": [],
   "source": [
    "# Como podemos observar, podemos dibujar un diagrama de violín de forma sencilla con Seaborn\n",
    "# para ver la distribución de nuestros datos. En este caso, para la feature \"danceability\".\n",
    "sns.violinplot(x=\"danceability\", data=df)"
   ]
  },
  {
   "cell_type": "code",
   "execution_count": null,
   "id": "613ec9a0",
   "metadata": {},
   "outputs": [],
   "source": [
    "# Como podemos observar, podemos dibujar un diagrama de caja de forma sencilla con Seaborn \n",
    "# para ver la distribución de nuestros datos. En este caso, para la feature \"danceability\".\n",
    "sns.boxplot(x=\"danceability\", data=df)"
   ]
  }
 ],
 "metadata": {
  "kernelspec": {
   "display_name": "Python 3 (ipykernel)",
   "language": "python",
   "name": "python3"
  },
  "language_info": {
   "codemirror_mode": {
    "name": "ipython",
    "version": 3
   },
   "file_extension": ".py",
   "mimetype": "text/x-python",
   "name": "python",
   "nbconvert_exporter": "python",
   "pygments_lexer": "ipython3",
   "version": "3.9.12"
  }
 },
 "nbformat": 4,
 "nbformat_minor": 5
}
