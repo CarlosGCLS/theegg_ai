{
 "cells": [
  {
   "cell_type": "code",
   "execution_count": 1,
   "metadata": {
    "id": "CSciM9y_iSbm"
   },
   "outputs": [],
   "source": [
    "import pandas as pd\n",
    "import numpy as np"
   ]
  },
  {
   "cell_type": "code",
   "execution_count": 2,
   "metadata": {
    "id": "rMjTJx8qiVh5"
   },
   "outputs": [],
   "source": [
    "path = 'poblacion_global_2020.csv'"
   ]
  },
  {
   "cell_type": "markdown",
   "metadata": {
    "id": "4eh5I2Hl47dd"
   },
   "source": [
    "# Ejercicio\n",
    "\n",
    "Examina detenidamente el siguiente dataset y responde las siguientes preguntas:\n",
    "\n",
    "* ¿Porqué cumple con las condiciones de Tidy Data?\n",
    "    porque cada fila en una tabla es una observación y cada columna es una característica de dicha información\n",
    "* ¿Cuál es el data point principal y cual es la meta data?\n",
    "    Principal el pais, y metadata el resto\n",
    "* Si quisieramos saber más sobre los niveles educativos globales ¿Qué otras características necesitariamos para este data set?\n",
    "    Un metadato referente a esta información\n",
    "* ¿Qué tipo de análisis harías con este data set?\n",
    "    estudio sobre la variación de la población"
   ]
  },
  {
   "cell_type": "code",
   "execution_count": 3,
   "metadata": {
    "colab": {
     "base_uri": "https://localhost:8080/",
     "height": 206
    },
    "id": "zIVDU1LhlGlf",
    "outputId": "d5d8dc73-d7c1-436a-9ac6-8550cbbedb6f"
   },
   "outputs": [
    {
     "data": {
      "text/html": [
       "<div>\n",
       "<style scoped>\n",
       "    .dataframe tbody tr th:only-of-type {\n",
       "        vertical-align: middle;\n",
       "    }\n",
       "\n",
       "    .dataframe tbody tr th {\n",
       "        vertical-align: top;\n",
       "    }\n",
       "\n",
       "    .dataframe thead th {\n",
       "        text-align: right;\n",
       "    }\n",
       "</style>\n",
       "<table border=\"1\" class=\"dataframe\">\n",
       "  <thead>\n",
       "    <tr style=\"text-align: right;\">\n",
       "      <th></th>\n",
       "      <th>Pais</th>\n",
       "      <th>Poblacion (2020)</th>\n",
       "      <th>Densidad</th>\n",
       "      <th>Territorio (Km²)</th>\n",
       "      <th>Tasa Migracion</th>\n",
       "      <th>Tasa Fertilidad</th>\n",
       "      <th>Edad Promedio</th>\n",
       "      <th>% Poblacion Urbaba</th>\n",
       "    </tr>\n",
       "  </thead>\n",
       "  <tbody>\n",
       "    <tr>\n",
       "      <th>0</th>\n",
       "      <td>China</td>\n",
       "      <td>1440297825</td>\n",
       "      <td>153</td>\n",
       "      <td>9388211</td>\n",
       "      <td>-348399.0</td>\n",
       "      <td>1.7</td>\n",
       "      <td>38</td>\n",
       "      <td>61 %</td>\n",
       "    </tr>\n",
       "    <tr>\n",
       "      <th>1</th>\n",
       "      <td>India</td>\n",
       "      <td>1382345085</td>\n",
       "      <td>464</td>\n",
       "      <td>2973190</td>\n",
       "      <td>-532687.0</td>\n",
       "      <td>2.2</td>\n",
       "      <td>28</td>\n",
       "      <td>35 %</td>\n",
       "    </tr>\n",
       "    <tr>\n",
       "      <th>2</th>\n",
       "      <td>Estados Unidos</td>\n",
       "      <td>331341050</td>\n",
       "      <td>36</td>\n",
       "      <td>9147420</td>\n",
       "      <td>954806.0</td>\n",
       "      <td>1.8</td>\n",
       "      <td>38</td>\n",
       "      <td>83 %</td>\n",
       "    </tr>\n",
       "    <tr>\n",
       "      <th>3</th>\n",
       "      <td>Indonesia</td>\n",
       "      <td>274021604</td>\n",
       "      <td>151</td>\n",
       "      <td>1811570</td>\n",
       "      <td>-98955.0</td>\n",
       "      <td>2.3</td>\n",
       "      <td>30</td>\n",
       "      <td>56 %</td>\n",
       "    </tr>\n",
       "    <tr>\n",
       "      <th>4</th>\n",
       "      <td>Pakistán</td>\n",
       "      <td>221612785</td>\n",
       "      <td>287</td>\n",
       "      <td>770880</td>\n",
       "      <td>-233379.0</td>\n",
       "      <td>3.6</td>\n",
       "      <td>23</td>\n",
       "      <td>35 %</td>\n",
       "    </tr>\n",
       "  </tbody>\n",
       "</table>\n",
       "</div>"
      ],
      "text/plain": [
       "             Pais  Poblacion (2020)  Densidad  Territorio (Km²)  \\\n",
       "0           China        1440297825       153           9388211   \n",
       "1           India        1382345085       464           2973190   \n",
       "2  Estados Unidos         331341050        36           9147420   \n",
       "3       Indonesia         274021604       151           1811570   \n",
       "4        Pakistán         221612785       287            770880   \n",
       "\n",
       "   Tasa Migracion Tasa Fertilidad Edad Promedio % Poblacion Urbaba  \n",
       "0       -348399.0             1.7            38               61 %  \n",
       "1       -532687.0             2.2            28               35 %  \n",
       "2        954806.0             1.8            38               83 %  \n",
       "3        -98955.0             2.3            30               56 %  \n",
       "4       -233379.0             3.6            23               35 %  "
      ]
     },
     "execution_count": 3,
     "metadata": {},
     "output_type": "execute_result"
    }
   ],
   "source": [
    "df = pd.read_csv(path)\n",
    "\n",
    "df.head()"
   ]
  },
  {
   "cell_type": "markdown",
   "metadata": {
    "id": "icPpmAcd5BCY"
   },
   "source": [
    "# Ejercicios:\n",
    "\n",
    "Manipula el dataset, de manera que respondas las siguientes preguntas:\n",
    "\n",
    "1. ¿Cual es el promedio de Tasa de Fertilidad global?\n",
    "2. ¿Que país tiene la Edad Promedio más alta y cual la más baja?\n",
    "3. Agrupa los países por continente y obtén la mediana de la población urbana\n",
    "4. ¿Qué otro de cálculo de interés (usando estas variables) crees pertinente para comparar la calidad de vida a nivel global? ¿Porqué?"
   ]
  },
  {
   "cell_type": "code",
   "execution_count": 5,
   "metadata": {},
   "outputs": [
    {
     "data": {
      "text/plain": [
       "array([[<AxesSubplot:title={'center':'Poblacion (2020)'}>,\n",
       "        <AxesSubplot:title={'center':'Densidad'}>],\n",
       "       [<AxesSubplot:title={'center':'Territorio (Km²)'}>,\n",
       "        <AxesSubplot:title={'center':'Tasa Migracion'}>]], dtype=object)"
      ]
     },
     "execution_count": 5,
     "metadata": {},
     "output_type": "execute_result"
    },
    {
     "data": {
      "image/png": "[encoded data removed]",
      "text/plain": [
       "<Figure size 432x288 with 4 Axes>"
      ]
     },
     "metadata": {
      "needs_background": "light"
     },
     "output_type": "display_data"
    }
   ],
   "source": [
    "df.hist()"
   ]
  },
  {
   "cell_type": "code",
   "execution_count": 8,
   "metadata": {},
   "outputs": [
    {
     "data": {
      "text/html": [
       "<div>\n",
       "<style scoped>\n",
       "    .dataframe tbody tr th:only-of-type {\n",
       "        vertical-align: middle;\n",
       "    }\n",
       "\n",
       "    .dataframe tbody tr th {\n",
       "        vertical-align: top;\n",
       "    }\n",
       "\n",
       "    .dataframe thead th {\n",
       "        text-align: right;\n",
       "    }\n",
       "</style>\n",
       "<table border=\"1\" class=\"dataframe\">\n",
       "  <thead>\n",
       "    <tr style=\"text-align: right;\">\n",
       "      <th></th>\n",
       "      <th>Pais</th>\n",
       "      <th>Poblacion (2020)</th>\n",
       "      <th>Densidad</th>\n",
       "      <th>Territorio (Km²)</th>\n",
       "      <th>Tasa Migracion</th>\n",
       "      <th>Tasa Fertilidad</th>\n",
       "      <th>Edad Promedio</th>\n",
       "      <th>% Poblacion Urbaba</th>\n",
       "    </tr>\n",
       "  </thead>\n",
       "  <tbody>\n",
       "    <tr>\n",
       "      <th>209</th>\n",
       "      <td>Samoa Americana</td>\n",
       "      <td>55169</td>\n",
       "      <td>276</td>\n",
       "      <td>200</td>\n",
       "      <td>NaN</td>\n",
       "      <td>N.A.</td>\n",
       "      <td>N.A.</td>\n",
       "      <td>88 %</td>\n",
       "    </tr>\n",
       "    <tr>\n",
       "      <th>210</th>\n",
       "      <td>Saint Kitts y Nevis</td>\n",
       "      <td>53264</td>\n",
       "      <td>205</td>\n",
       "      <td>260</td>\n",
       "      <td>NaN</td>\n",
       "      <td>N.A.</td>\n",
       "      <td>N.A.</td>\n",
       "      <td>33 %</td>\n",
       "    </tr>\n",
       "    <tr>\n",
       "      <th>211</th>\n",
       "      <td>Islas Feroe</td>\n",
       "      <td>48896</td>\n",
       "      <td>35</td>\n",
       "      <td>1396</td>\n",
       "      <td>NaN</td>\n",
       "      <td>N.A.</td>\n",
       "      <td>N.A.</td>\n",
       "      <td>43 %</td>\n",
       "    </tr>\n",
       "    <tr>\n",
       "      <th>212</th>\n",
       "      <td>San Martín</td>\n",
       "      <td>42960</td>\n",
       "      <td>1261</td>\n",
       "      <td>34</td>\n",
       "      <td>NaN</td>\n",
       "      <td>N.A.</td>\n",
       "      <td>N.A.</td>\n",
       "      <td>96 %</td>\n",
       "    </tr>\n",
       "    <tr>\n",
       "      <th>213</th>\n",
       "      <td>Monaco</td>\n",
       "      <td>39290</td>\n",
       "      <td>26337</td>\n",
       "      <td>1</td>\n",
       "      <td>NaN</td>\n",
       "      <td>N.A.</td>\n",
       "      <td>N.A.</td>\n",
       "      <td>N.A.</td>\n",
       "    </tr>\n",
       "  </tbody>\n",
       "</table>\n",
       "</div>"
      ],
      "text/plain": [
       "                    Pais  Poblacion (2020)  Densidad  Territorio (Km²)  \\\n",
       "209      Samoa Americana             55169       276               200   \n",
       "210  Saint Kitts y Nevis             53264       205               260   \n",
       "211          Islas Feroe             48896        35              1396   \n",
       "212           San Martín             42960      1261                34   \n",
       "213               Monaco             39290     26337                 1   \n",
       "\n",
       "     Tasa Migracion Tasa Fertilidad Edad Promedio % Poblacion Urbaba  \n",
       "209             NaN            N.A.          N.A.               88 %  \n",
       "210             NaN            N.A.          N.A.               33 %  \n",
       "211             NaN            N.A.          N.A.               43 %  \n",
       "212             NaN            N.A.          N.A.               96 %  \n",
       "213             NaN            N.A.          N.A.               N.A.  "
      ]
     },
     "execution_count": 8,
     "metadata": {},
     "output_type": "execute_result"
    }
   ],
   "source": [
    "df.tail()\n"
   ]
  },
  {
   "cell_type": "markdown",
   "metadata": {},
   "source": [
    "Elimimino los registros que tengan algún dato vacio"
   ]
  },
  {
   "cell_type": "code",
   "execution_count": 9,
   "metadata": {
    "scrolled": true
   },
   "outputs": [
    {
     "data": {
      "text/html": [
       "<div>\n",
       "<style scoped>\n",
       "    .dataframe tbody tr th:only-of-type {\n",
       "        vertical-align: middle;\n",
       "    }\n",
       "\n",
       "    .dataframe tbody tr th {\n",
       "        vertical-align: top;\n",
       "    }\n",
       "\n",
       "    .dataframe thead th {\n",
       "        text-align: right;\n",
       "    }\n",
       "</style>\n",
       "<table border=\"1\" class=\"dataframe\">\n",
       "  <thead>\n",
       "    <tr style=\"text-align: right;\">\n",
       "      <th></th>\n",
       "      <th>Pais</th>\n",
       "      <th>Poblacion (2020)</th>\n",
       "      <th>Densidad</th>\n",
       "      <th>Territorio (Km²)</th>\n",
       "      <th>Tasa Migracion</th>\n",
       "      <th>Tasa Fertilidad</th>\n",
       "      <th>Edad Promedio</th>\n",
       "      <th>% Poblacion Urbaba</th>\n",
       "    </tr>\n",
       "  </thead>\n",
       "  <tbody>\n",
       "    <tr>\n",
       "      <th>196</th>\n",
       "      <td>Aruba</td>\n",
       "      <td>106845</td>\n",
       "      <td>593</td>\n",
       "      <td>180</td>\n",
       "      <td>201.0</td>\n",
       "      <td>1.9</td>\n",
       "      <td>41</td>\n",
       "      <td>44 %</td>\n",
       "    </tr>\n",
       "    <tr>\n",
       "      <th>197</th>\n",
       "      <td>Tonga</td>\n",
       "      <td>105901</td>\n",
       "      <td>147</td>\n",
       "      <td>720</td>\n",
       "      <td>-800.0</td>\n",
       "      <td>3.6</td>\n",
       "      <td>22</td>\n",
       "      <td>24 %</td>\n",
       "    </tr>\n",
       "    <tr>\n",
       "      <th>198</th>\n",
       "      <td>Islas Virgenes</td>\n",
       "      <td>104398</td>\n",
       "      <td>298</td>\n",
       "      <td>350</td>\n",
       "      <td>-451.0</td>\n",
       "      <td>2</td>\n",
       "      <td>43</td>\n",
       "      <td>96 %</td>\n",
       "    </tr>\n",
       "    <tr>\n",
       "      <th>199</th>\n",
       "      <td>Seychelles</td>\n",
       "      <td>98453</td>\n",
       "      <td>214</td>\n",
       "      <td>460</td>\n",
       "      <td>-200.0</td>\n",
       "      <td>2.5</td>\n",
       "      <td>34</td>\n",
       "      <td>56 %</td>\n",
       "    </tr>\n",
       "    <tr>\n",
       "      <th>200</th>\n",
       "      <td>Antigua y Barbuda</td>\n",
       "      <td>98069</td>\n",
       "      <td>223</td>\n",
       "      <td>440</td>\n",
       "      <td>0.0</td>\n",
       "      <td>2</td>\n",
       "      <td>34</td>\n",
       "      <td>26 %</td>\n",
       "    </tr>\n",
       "  </tbody>\n",
       "</table>\n",
       "</div>"
      ],
      "text/plain": [
       "                  Pais  Poblacion (2020)  Densidad  Territorio (Km²)  \\\n",
       "196              Aruba            106845       593               180   \n",
       "197              Tonga            105901       147               720   \n",
       "198     Islas Virgenes            104398       298               350   \n",
       "199         Seychelles             98453       214               460   \n",
       "200  Antigua y Barbuda             98069       223               440   \n",
       "\n",
       "     Tasa Migracion Tasa Fertilidad Edad Promedio % Poblacion Urbaba  \n",
       "196           201.0             1.9            41               44 %  \n",
       "197          -800.0             3.6            22               24 %  \n",
       "198          -451.0               2            43               96 %  \n",
       "199          -200.0             2.5            34               56 %  \n",
       "200             0.0               2            34               26 %  "
      ]
     },
     "execution_count": 9,
     "metadata": {},
     "output_type": "execute_result"
    }
   ],
   "source": [
    "#elimino registros con datos vacios\n",
    "df.dropna(axis = 0, inplace = True)\n",
    "df.tail()"
   ]
  },
  {
   "cell_type": "markdown",
   "metadata": {},
   "source": [
    "# Promedio tasa de fertilidad"
   ]
  },
  {
   "cell_type": "code",
   "execution_count": 10,
   "metadata": {},
   "outputs": [
    {
     "name": "stdout",
     "output_type": "stream",
     "text": [
      "Pais                   object\n",
      "Poblacion (2020)        int64\n",
      "Densidad                int64\n",
      "Territorio (Km²)        int64\n",
      "Tasa Migracion        float64\n",
      "Tasa Fertilidad        object\n",
      "Edad Promedio          object\n",
      "% Poblacion Urbaba     object\n",
      "dtype: object\n",
      "El promedio de tasa de fertilidad es: 2.6930348258706465\n"
     ]
    }
   ],
   "source": [
    "#PromTasaFert =  df[\"Tasa Fertilidad\"].mean\n",
    "#df['Tasa Fertilidad'].mean()\n",
    "#df['Tasa Fertilidad'].mean()\n",
    "#df.head(100)\n",
    "#df['num1'] = df['num1'].astype(float)\n",
    "\n",
    "print (df.dtypes)\n",
    "#vemos que la tasa de fertilidad está guardado como objeto\n",
    "#lo transformamos a float \n",
    "\n",
    "df['Tasa Fertilidad'] = df['Tasa Fertilidad'].astype(float)\n",
    "\n",
    "#ahora ya podemos calcular la media\n",
    "PromTasaFert = df['Tasa Fertilidad'].mean()\n",
    "\n",
    "print (\"El promedio de tasa de fertilidad es:\",PromTasaFert)\n"
   ]
  },
  {
   "cell_type": "markdown",
   "metadata": {},
   "source": [
    "# Edad promedio mas alta"
   ]
  },
  {
   "cell_type": "code",
   "execution_count": 51,
   "metadata": {},
   "outputs": [
    {
     "name": "stdout",
     "output_type": "stream",
     "text": [
      "Pais con promedio de edad mas alta:\n"
     ]
    },
    {
     "data": {
      "text/html": [
       "<div>\n",
       "<style scoped>\n",
       "    .dataframe tbody tr th:only-of-type {\n",
       "        vertical-align: middle;\n",
       "    }\n",
       "\n",
       "    .dataframe tbody tr th {\n",
       "        vertical-align: top;\n",
       "    }\n",
       "\n",
       "    .dataframe thead th {\n",
       "        text-align: right;\n",
       "    }\n",
       "</style>\n",
       "<table border=\"1\" class=\"dataframe\">\n",
       "  <thead>\n",
       "    <tr style=\"text-align: right;\">\n",
       "      <th></th>\n",
       "      <th>Pais</th>\n",
       "      <th>Poblacion (2020)</th>\n",
       "      <th>Densidad</th>\n",
       "      <th>Territorio (Km²)</th>\n",
       "      <th>Tasa Migracion</th>\n",
       "      <th>Tasa Fertilidad</th>\n",
       "      <th>Edad Promedio</th>\n",
       "      <th>% Poblacion Urbaba</th>\n",
       "    </tr>\n",
       "  </thead>\n",
       "  <tbody>\n",
       "    <tr>\n",
       "      <th>10</th>\n",
       "      <td>Japan</td>\n",
       "      <td>126407422</td>\n",
       "      <td>347</td>\n",
       "      <td>364555</td>\n",
       "      <td>71560.0</td>\n",
       "      <td>1.4</td>\n",
       "      <td>48.0</td>\n",
       "      <td>92 %</td>\n",
       "    </tr>\n",
       "  </tbody>\n",
       "</table>\n",
       "</div>"
      ],
      "text/plain": [
       "     Pais  Poblacion (2020)  Densidad  Territorio (Km²)  Tasa Migracion  \\\n",
       "10  Japan         126407422       347            364555         71560.0   \n",
       "\n",
       "    Tasa Fertilidad  Edad Promedio % Poblacion Urbaba  \n",
       "10              1.4           48.0               92 %  "
      ]
     },
     "execution_count": 51,
     "metadata": {},
     "output_type": "execute_result"
    }
   ],
   "source": [
    "#edad promedio está como Object. Lo transformamos en float\n",
    "\n",
    "df['Edad Promedio'] = df['Edad Promedio'].astype(float)\n",
    "\n",
    "df['Edad Promedio'].max()\n",
    "\n",
    "#resultado = df[df['Edad Promedio'] == 48]\n",
    "\n",
    "resultado = df[df['Edad Promedio'] == df['Edad Promedio'].max()]\n",
    "\n",
    "print (\"Pais con promedio de edad mas alta:\")\n",
    "resultado\n",
    "\n",
    "\n"
   ]
  },
  {
   "cell_type": "markdown",
   "metadata": {},
   "source": [
    "# Edad promedio mas baja"
   ]
  },
  {
   "cell_type": "code",
   "execution_count": 52,
   "metadata": {},
   "outputs": [
    {
     "name": "stdout",
     "output_type": "stream",
     "text": [
      "Pais con promedio de edad mas baja:\n"
     ]
    },
    {
     "data": {
      "text/html": [
       "<div>\n",
       "<style scoped>\n",
       "    .dataframe tbody tr th:only-of-type {\n",
       "        vertical-align: middle;\n",
       "    }\n",
       "\n",
       "    .dataframe tbody tr th {\n",
       "        vertical-align: top;\n",
       "    }\n",
       "\n",
       "    .dataframe thead th {\n",
       "        text-align: right;\n",
       "    }\n",
       "</style>\n",
       "<table border=\"1\" class=\"dataframe\">\n",
       "  <thead>\n",
       "    <tr style=\"text-align: right;\">\n",
       "      <th></th>\n",
       "      <th>Pais</th>\n",
       "      <th>Poblacion (2020)</th>\n",
       "      <th>Densidad</th>\n",
       "      <th>Territorio (Km²)</th>\n",
       "      <th>Tasa Migracion</th>\n",
       "      <th>Tasa Fertilidad</th>\n",
       "      <th>Edad Promedio</th>\n",
       "      <th>% Poblacion Urbaba</th>\n",
       "    </tr>\n",
       "  </thead>\n",
       "  <tbody>\n",
       "    <tr>\n",
       "      <th>55</th>\n",
       "      <td>Niger</td>\n",
       "      <td>24346468</td>\n",
       "      <td>19</td>\n",
       "      <td>1266700</td>\n",
       "      <td>4000.0</td>\n",
       "      <td>7.0</td>\n",
       "      <td>15.0</td>\n",
       "      <td>17 %</td>\n",
       "    </tr>\n",
       "  </tbody>\n",
       "</table>\n",
       "</div>"
      ],
      "text/plain": [
       "     Pais  Poblacion (2020)  Densidad  Territorio (Km²)  Tasa Migracion  \\\n",
       "55  Niger          24346468        19           1266700          4000.0   \n",
       "\n",
       "    Tasa Fertilidad  Edad Promedio % Poblacion Urbaba  \n",
       "55              7.0           15.0               17 %  "
      ]
     },
     "execution_count": 52,
     "metadata": {},
     "output_type": "execute_result"
    }
   ],
   "source": [
    "# edad promedio está como Object. Lo transformamos en float\n",
    "\n",
    "df['Edad Promedio'] = df['Edad Promedio'].astype(float)\n",
    "\n",
    "df['Edad Promedio'].max()\n",
    "\n",
    "#resultado = df[df['Edad Promedio'] == 48]\n",
    "\n",
    "resultado = df[df['Edad Promedio'] == df['Edad Promedio'].min()]\n",
    "\n",
    "print (\"Pais con promedio de edad mas baja:\")\n",
    "resultado\n"
   ]
  },
  {
   "cell_type": "markdown",
   "metadata": {},
   "source": [
    "# Mediana de poblacion por continente"
   ]
  },
  {
   "cell_type": "markdown",
   "metadata": {},
   "source": [
    "No se puede realizar porque no está el campo continente"
   ]
  },
  {
   "cell_type": "markdown",
   "metadata": {},
   "source": [
    "# Indicadores del nivel de vida"
   ]
  },
  {
   "cell_type": "markdown",
   "metadata": {},
   "source": [
    "La tasa de Migración, cuanto mas baja mayor nivel de vida"
   ]
  },
  {
   "cell_type": "code",
   "execution_count": null,
   "metadata": {},
   "outputs": [],
   "source": []
  }
 ],
 "metadata": {
  "colab": {
   "name": "DatoInteligente_Tarea.ipynb",
   "provenance": []
  },
  "kernelspec": {
   "display_name": "Python 3 (ipykernel)",
   "language": "python",
   "name": "python3"
  },
  "language_info": {
   "codemirror_mode": {
    "name": "ipython",
    "version": 3
   },
   "file_extension": ".py",
   "mimetype": "text/x-python",
   "name": "python",
   "nbconvert_exporter": "python",
   "pygments_lexer": "ipython3",
   "version": "3.9.12"
  }
 },
 "nbformat": 4,
 "nbformat_minor": 1
}
